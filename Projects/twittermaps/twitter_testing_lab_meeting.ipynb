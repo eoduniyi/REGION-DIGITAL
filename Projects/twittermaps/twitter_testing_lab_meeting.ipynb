{
 "cells": [
  {
   "cell_type": "markdown",
   "metadata": {},
   "source": [
    "# 1. Twitter Testing"
   ]
  },
  {
   "cell_type": "code",
   "execution_count": null,
   "metadata": {},
   "outputs": [],
   "source": []
  },
  {
   "cell_type": "code",
   "execution_count": 7,
   "metadata": {},
   "outputs": [
    {
     "data": {
      "text/html": [
       "'/Users/erickoduniyi/Desktop/twitter-notebook'"
      ],
      "text/latex": [
       "'/Users/erickoduniyi/Desktop/twitter-notebook'"
      ],
      "text/markdown": [
       "'/Users/erickoduniyi/Desktop/twitter-notebook'"
      ],
      "text/plain": [
       "[1] \"/Users/erickoduniyi/Desktop/twitter-notebook\""
      ]
     },
     "metadata": {},
     "output_type": "display_data"
    }
   ],
   "source": [
    "getwd()"
   ]
  },
  {
   "cell_type": "code",
   "execution_count": 8,
   "metadata": {},
   "outputs": [
    {
     "data": {
      "text/html": [
       "<ol class=list-inline>\n",
       "\t<li>'~$US_Measles_cases_2008_2018 copy.xlsx'</li>\n",
       "\t<li>'CDC-data'</li>\n",
       "\t<li>'ConsentTweets.csv'</li>\n",
       "\t<li>'exploratory-plots'</li>\n",
       "\t<li>'MeaslesTweets.csv'</li>\n",
       "\t<li>'MeaslesTweets.txt'</li>\n",
       "\t<li>'Test'</li>\n",
       "\t<li>'Training'</li>\n",
       "\t<li>'twitter_testing_lab_meeting_code.txt'</li>\n",
       "\t<li>'twitter_testing_lab_meeting.ipynb'</li>\n",
       "\t<li>'Twitter-Testing.ipynb'</li>\n",
       "\t<li>'twittertest10-16-18'</li>\n",
       "\t<li>'twittertest10-8-18'</li>\n",
       "\t<li>'US_Measles_cases 2008_2018_V2.xlsx'</li>\n",
       "\t<li>'US_Measles_cases_2008_2018 copy.xlsx'</li>\n",
       "\t<li>'US_Measles_cases_2008_2018.xlsx'</li>\n",
       "\t<li>'VaccinefreedomTweets.csv'</li>\n",
       "\t<li>'VaccinefreedomTweets.txt'</li>\n",
       "\t<li>'vaccineinjuryTweets.csv'</li>\n",
       "\t<li>'vaccineinjuryTweets.txt'</li>\n",
       "</ol>\n"
      ],
      "text/latex": [
       "\\begin{enumerate*}\n",
       "\\item '\\textasciitilde{}\\$US\\_Measles\\_cases\\_2008\\_2018 copy.xlsx'\n",
       "\\item 'CDC-data'\n",
       "\\item 'ConsentTweets.csv'\n",
       "\\item 'exploratory-plots'\n",
       "\\item 'MeaslesTweets.csv'\n",
       "\\item 'MeaslesTweets.txt'\n",
       "\\item 'Test'\n",
       "\\item 'Training'\n",
       "\\item 'twitter\\_testing\\_lab\\_meeting\\_code.txt'\n",
       "\\item 'twitter\\_testing\\_lab\\_meeting.ipynb'\n",
       "\\item 'Twitter-Testing.ipynb'\n",
       "\\item 'twittertest10-16-18'\n",
       "\\item 'twittertest10-8-18'\n",
       "\\item 'US\\_Measles\\_cases 2008\\_2018\\_V2.xlsx'\n",
       "\\item 'US\\_Measles\\_cases\\_2008\\_2018 copy.xlsx'\n",
       "\\item 'US\\_Measles\\_cases\\_2008\\_2018.xlsx'\n",
       "\\item 'VaccinefreedomTweets.csv'\n",
       "\\item 'VaccinefreedomTweets.txt'\n",
       "\\item 'vaccineinjuryTweets.csv'\n",
       "\\item 'vaccineinjuryTweets.txt'\n",
       "\\end{enumerate*}\n"
      ],
      "text/markdown": [
       "1. '~$US_Measles_cases_2008_2018 copy.xlsx'\n",
       "2. 'CDC-data'\n",
       "3. 'ConsentTweets.csv'\n",
       "4. 'exploratory-plots'\n",
       "5. 'MeaslesTweets.csv'\n",
       "6. 'MeaslesTweets.txt'\n",
       "7. 'Test'\n",
       "8. 'Training'\n",
       "9. 'twitter_testing_lab_meeting_code.txt'\n",
       "10. 'twitter_testing_lab_meeting.ipynb'\n",
       "11. 'Twitter-Testing.ipynb'\n",
       "12. 'twittertest10-16-18'\n",
       "13. 'twittertest10-8-18'\n",
       "14. 'US_Measles_cases 2008_2018_V2.xlsx'\n",
       "15. 'US_Measles_cases_2008_2018 copy.xlsx'\n",
       "16. 'US_Measles_cases_2008_2018.xlsx'\n",
       "17. 'VaccinefreedomTweets.csv'\n",
       "18. 'VaccinefreedomTweets.txt'\n",
       "19. 'vaccineinjuryTweets.csv'\n",
       "20. 'vaccineinjuryTweets.txt'\n",
       "\n",
       "\n"
      ],
      "text/plain": [
       " [1] \"~$US_Measles_cases_2008_2018 copy.xlsx\"\n",
       " [2] \"CDC-data\"                              \n",
       " [3] \"ConsentTweets.csv\"                     \n",
       " [4] \"exploratory-plots\"                     \n",
       " [5] \"MeaslesTweets.csv\"                     \n",
       " [6] \"MeaslesTweets.txt\"                     \n",
       " [7] \"Test\"                                  \n",
       " [8] \"Training\"                              \n",
       " [9] \"twitter_testing_lab_meeting_code.txt\"  \n",
       "[10] \"twitter_testing_lab_meeting.ipynb\"     \n",
       "[11] \"Twitter-Testing.ipynb\"                 \n",
       "[12] \"twittertest10-16-18\"                   \n",
       "[13] \"twittertest10-8-18\"                    \n",
       "[14] \"US_Measles_cases 2008_2018_V2.xlsx\"    \n",
       "[15] \"US_Measles_cases_2008_2018 copy.xlsx\"  \n",
       "[16] \"US_Measles_cases_2008_2018.xlsx\"       \n",
       "[17] \"VaccinefreedomTweets.csv\"              \n",
       "[18] \"VaccinefreedomTweets.txt\"              \n",
       "[19] \"vaccineinjuryTweets.csv\"               \n",
       "[20] \"vaccineinjuryTweets.txt\"               "
      ]
     },
     "metadata": {},
     "output_type": "display_data"
    }
   ],
   "source": [
    "list.files()"
   ]
  },
  {
   "cell_type": "code",
   "execution_count": 9,
   "metadata": {},
   "outputs": [
    {
     "name": "stderr",
     "output_type": "stream",
     "text": [
      "Warning message:\n",
      "“package ‘RCurl’ was built under R version 3.4.4”Loading required package: bitops\n"
     ]
    }
   ],
   "source": [
    "# Load necessary library packages\n",
    "library(twitteR)\n",
    "library(RCurl)"
   ]
  },
  {
   "cell_type": "code",
   "execution_count": 10,
   "metadata": {},
   "outputs": [
    {
     "name": "stdout",
     "output_type": "stream",
     "text": [
      "[1] \"Using direct authentication\"\n"
     ]
    }
   ],
   "source": [
    "# Set up API keys and tokens (these come from developer.twitter.com)\n",
    "# Setting up API keys and tokens (these comes from developer.twitter.com)\n",
    "consumerKey <- \"o82CIPB0SHTbn1vxJn2SUG0YJ\"\n",
    "consumerSecret <- \"xv7aYTCH9Ks05MHB0NujvYEyy1eNr2X2jyIjwilAwPZxzNEIuD\"\n",
    "accessToken <- \"1044689406874005504-BttOGUgC8iJeTwhGCRcWlJbaDSE9sV\"\n",
    "accessTokenSecret <- \"8xy7k4god2LpbjvabQs2wDcNgI1ICuyi6jF6mtccO41ka\"\n",
    "\n",
    "# Setting up Twitter connection\n",
    "setup_twitter_oauth(consumerKey, consumerSecret, accessToken, accessTokenSecret)"
   ]
  },
  {
   "cell_type": "markdown",
   "metadata": {},
   "source": [
    "## 1.1 Understanding various TwitteR functions"
   ]
  },
  {
   "cell_type": "code",
   "execution_count": null,
   "metadata": {},
   "outputs": [],
   "source": [
    "# Getting trend information\n",
    "\n",
    "\n",
    "\n",
    "# Getting Worldwide Twitter trend information\n",
    "\n",
    "\n",
    "# Getting United States Twitter trend information\n"
   ]
  },
  {
   "cell_type": "code",
   "execution_count": 12,
   "metadata": {},
   "outputs": [
    {
     "data": {
      "text/plain": [
       "[[1]]\n",
       "[1] \"realDonaldTrump: RT @WhiteHouse: President Trump and the First Lady Participate in the White House Christmas Tree Delivery https://t.co/O6Nr8k1mnu\"\n",
       "\n",
       "[[2]]\n",
       "[1] \"realDonaldTrump: The Fake News is showing old footage of people climbing over our Ocean Area Fence. This is what it really looks lik… https://t.co/oH4qCb1x4P\"\n",
       "\n",
       "[[3]]\n",
       "[1] \"realDonaldTrump: ....We no longer pay Pakistan the $Billions because they would take our money and do nothing for us, Bin Laden bein… https://t.co/ePHdS3WmzG\"\n",
       "\n",
       "[[4]]\n",
       "[1] \"realDonaldTrump: Of course we should have captured Osama Bin Laden long before we did. I pointed him out in my book just BEFORE the… https://t.co/xbUMNwWgHj\"\n",
       "\n",
       "[[5]]\n",
       "[1] \"realDonaldTrump: RT @realDonaldTrump: “Boom: Record high business optimism, need for employees at 45-year high” https://t.co/jBFjEwAcfd\"\n"
      ]
     },
     "metadata": {},
     "output_type": "display_data"
    },
    {
     "data": {
      "text/html": [
       "<table>\n",
       "<thead><tr><th scope=col>text</th><th scope=col>favorited</th><th scope=col>favoriteCount</th><th scope=col>replyToSN</th><th scope=col>created</th><th scope=col>truncated</th><th scope=col>replyToSID</th><th scope=col>id</th><th scope=col>replyToUID</th><th scope=col>statusSource</th><th scope=col>screenName</th><th scope=col>retweetCount</th><th scope=col>isRetweet</th><th scope=col>retweeted</th><th scope=col>longitude</th><th scope=col>latitude</th></tr></thead>\n",
       "<tbody>\n",
       "\t<tr><td><span style=white-space:pre-wrap>RT @WhiteHouse: President Trump and the First Lady Participate in the White House Christmas Tree Delivery https://t.co/O6Nr8k1mnu           </span></td><td>FALSE                                                                                                                                                                               </td><td><span style=white-space:pre-wrap>    0</span>                                                                                                                                       </td><td>NA                                                                                                                                                                                  </td><td>2018-11-19 20:56:08                                                                                                                                                                 </td><td>FALSE                                                                                                                                                                               </td><td>NA                                                                                                                                                                                  </td><td>1064623382359085060                                                                                                                                                                 </td><td>NA                                                                                                                                                                                  </td><td>&lt;a href=\"http://twitter.com/download/iphone\" rel=\"nofollow\"&gt;Twitter for iPhone&lt;/a&gt;                                                                                      </td><td>realDonaldTrump                                                                                                                                                                     </td><td> 4826                                                                                                                                                                               </td><td> TRUE                                                                                                                                                                               </td><td>FALSE                                                                                                                                                                               </td><td>NA                                                                                                                                                                                  </td><td>NA                                                                                                                                                                                  </td></tr>\n",
       "\t<tr><td>The Fake News is showing old footage of people climbing over our Ocean Area Fence. This is what it really looks lik… https://t.co/oH4qCb1x4P</td><td>FALSE                                                                                                                                       </td><td>67880                                                                                                                                       </td><td>NA                                                                                                                                          </td><td>2018-11-19 19:10:09                                                                                                                         </td><td> TRUE                                                                                                                                       </td><td>NA                                                                                                                                          </td><td>1064596708875747328                                                                                                                         </td><td>NA                                                                                                                                          </td><td>&lt;a href=\"http://twitter.com/download/iphone\" rel=\"nofollow\"&gt;Twitter for iPhone&lt;/a&gt;                                              </td><td>realDonaldTrump                                                                                                                             </td><td>22115                                                                                                                                       </td><td>FALSE                                                                                                                                       </td><td>FALSE                                                                                                                                       </td><td>NA                                                                                                                                          </td><td>NA                                                                                                                                          </td></tr>\n",
       "\t<tr><td>....We no longer pay Pakistan the $Billions because they would take our money and do nothing for us, Bin Laden bein… https://t.co/ePHdS3WmzG</td><td>FALSE                                                                                                                                       </td><td>97136                                                                                                                                       </td><td>NA                                                                                                                                          </td><td>2018-11-19 15:41:19                                                                                                                         </td><td> TRUE                                                                                                                                       </td><td>NA                                                                                                                                          </td><td>1064544156960387072                                                                                                                         </td><td>NA                                                                                                                                          </td><td>&lt;a href=\"http://twitter.com/download/iphone\" rel=\"nofollow\"&gt;Twitter for iPhone&lt;/a&gt;                                              </td><td>realDonaldTrump                                                                                                                             </td><td>24812                                                                                                                                       </td><td>FALSE                                                                                                                                       </td><td>FALSE                                                                                                                                       </td><td>NA                                                                                                                                          </td><td>NA                                                                                                                                          </td></tr>\n",
       "\t<tr><td>Of course we should have captured Osama Bin Laden long before we did. I pointed him out in my book just BEFORE the… https://t.co/xbUMNwWgHj </td><td>FALSE                                                                                                                                       </td><td>89856                                                                                                                                       </td><td>NA                                                                                                                                          </td><td>2018-11-19 15:26:39                                                                                                                         </td><td> TRUE                                                                                                                                       </td><td>NA                                                                                                                                          </td><td>1064540462848098304                                                                                                                         </td><td>NA                                                                                                                                          </td><td>&lt;a href=\"http://twitter.com/download/iphone\" rel=\"nofollow\"&gt;Twitter for iPhone&lt;/a&gt;                                              </td><td>realDonaldTrump                                                                                                                             </td><td>24851                                                                                                                                       </td><td>FALSE                                                                                                                                       </td><td>FALSE                                                                                                                                       </td><td>NA                                                                                                                                          </td><td>NA                                                                                                                                          </td></tr>\n",
       "\t<tr><td><span style=white-space:pre-wrap>RT @realDonaldTrump: “Boom: Record high business optimism, need for employees at 45-year high” https://t.co/jBFjEwAcfd                      </span></td><td>FALSE                                                                                                                                                                               </td><td><span style=white-space:pre-wrap>    0</span>                                                                                                                                       </td><td>NA                                                                                                                                                                                  </td><td>2018-11-19 15:02:03                                                                                                                                                                 </td><td>FALSE                                                                                                                                                                               </td><td>NA                                                                                                                                                                                  </td><td>1064534273380757504                                                                                                                                                                 </td><td>NA                                                                                                                                                                                  </td><td>&lt;a href=\"http://twitter.com/download/iphone\" rel=\"nofollow\"&gt;Twitter for iPhone&lt;/a&gt;                                                                                      </td><td>realDonaldTrump                                                                                                                                                                     </td><td>21184                                                                                                                                                                               </td><td> TRUE                                                                                                                                                                               </td><td>FALSE                                                                                                                                                                               </td><td>NA                                                                                                                                                                                  </td><td>NA                                                                                                                                                                                  </td></tr>\n",
       "</tbody>\n",
       "</table>\n"
      ],
      "text/latex": [
       "\\begin{tabular}{r|llllllllllllllll}\n",
       " text & favorited & favoriteCount & replyToSN & created & truncated & replyToSID & id & replyToUID & statusSource & screenName & retweetCount & isRetweet & retweeted & longitude & latitude\\\\\n",
       "\\hline\n",
       "\t RT @WhiteHouse: President Trump and the First Lady Participate in the White House Christmas Tree Delivery https://t.co/O6Nr8k1mnu            & FALSE                                                                                                                                        &     0                                                                                                                                        & NA                                                                                                                                           & 2018-11-19 20:56:08                                                                                                                          & FALSE                                                                                                                                        & NA                                                                                                                                           & 1064623382359085060                                                                                                                          & NA                                                                                                                                           & <a href=\"http://twitter.com/download/iphone\" rel=\"nofollow\">Twitter for iPhone</a>                                                           & realDonaldTrump                                                                                                                              &  4826                                                                                                                                        &  TRUE                                                                                                                                        & FALSE                                                                                                                                        & NA                                                                                                                                           & NA                                                                                                                                          \\\\\n",
       "\t The Fake News is showing old footage of people climbing over our Ocean Area Fence. This is what it really looks lik… https://t.co/oH4qCb1x4P & FALSE                                                                                                                                        & 67880                                                                                                                                        & NA                                                                                                                                           & 2018-11-19 19:10:09                                                                                                                          &  TRUE                                                                                                                                        & NA                                                                                                                                           & 1064596708875747328                                                                                                                          & NA                                                                                                                                           & <a href=\"http://twitter.com/download/iphone\" rel=\"nofollow\">Twitter for iPhone</a>                                                           & realDonaldTrump                                                                                                                              & 22115                                                                                                                                        & FALSE                                                                                                                                        & FALSE                                                                                                                                        & NA                                                                                                                                           & NA                                                                                                                                          \\\\\n",
       "\t ....We no longer pay Pakistan the \\$Billions because they would take our money and do nothing for us, Bin Laden bein… https://t.co/ePHdS3WmzG & FALSE                                                                                                                                          & 97136                                                                                                                                          & NA                                                                                                                                             & 2018-11-19 15:41:19                                                                                                                            &  TRUE                                                                                                                                          & NA                                                                                                                                             & 1064544156960387072                                                                                                                            & NA                                                                                                                                             & <a href=\"http://twitter.com/download/iphone\" rel=\"nofollow\">Twitter for iPhone</a>                                                             & realDonaldTrump                                                                                                                                & 24812                                                                                                                                          & FALSE                                                                                                                                          & FALSE                                                                                                                                          & NA                                                                                                                                             & NA                                                                                                                                            \\\\\n",
       "\t Of course we should have captured Osama Bin Laden long before we did. I pointed him out in my book just BEFORE the… https://t.co/xbUMNwWgHj  & FALSE                                                                                                                                        & 89856                                                                                                                                        & NA                                                                                                                                           & 2018-11-19 15:26:39                                                                                                                          &  TRUE                                                                                                                                        & NA                                                                                                                                           & 1064540462848098304                                                                                                                          & NA                                                                                                                                           & <a href=\"http://twitter.com/download/iphone\" rel=\"nofollow\">Twitter for iPhone</a>                                                           & realDonaldTrump                                                                                                                              & 24851                                                                                                                                        & FALSE                                                                                                                                        & FALSE                                                                                                                                        & NA                                                                                                                                           & NA                                                                                                                                          \\\\\n",
       "\t RT @realDonaldTrump: “Boom: Record high business optimism, need for employees at 45-year high” https://t.co/jBFjEwAcfd                       & FALSE                                                                                                                                        &     0                                                                                                                                        & NA                                                                                                                                           & 2018-11-19 15:02:03                                                                                                                          & FALSE                                                                                                                                        & NA                                                                                                                                           & 1064534273380757504                                                                                                                          & NA                                                                                                                                           & <a href=\"http://twitter.com/download/iphone\" rel=\"nofollow\">Twitter for iPhone</a>                                                           & realDonaldTrump                                                                                                                              & 21184                                                                                                                                        &  TRUE                                                                                                                                        & FALSE                                                                                                                                        & NA                                                                                                                                           & NA                                                                                                                                          \\\\\n",
       "\\end{tabular}\n"
      ],
      "text/markdown": [
       "\n",
       "text | favorited | favoriteCount | replyToSN | created | truncated | replyToSID | id | replyToUID | statusSource | screenName | retweetCount | isRetweet | retweeted | longitude | latitude | \n",
       "|---|---|---|---|---|\n",
       "| RT @WhiteHouse: President Trump and the First Lady Participate in the White House Christmas Tree Delivery https://t.co/O6Nr8k1mnu            | FALSE                                                                                                                                        |     0                                                                                                                                        | NA                                                                                                                                           | 2018-11-19 20:56:08                                                                                                                          | FALSE                                                                                                                                        | NA                                                                                                                                           | 1064623382359085060                                                                                                                          | NA                                                                                                                                           | <a href=\"http://twitter.com/download/iphone\" rel=\"nofollow\">Twitter for iPhone</a>                                                           | realDonaldTrump                                                                                                                              |  4826                                                                                                                                        |  TRUE                                                                                                                                        | FALSE                                                                                                                                        | NA                                                                                                                                           | NA                                                                                                                                           | \n",
       "| The Fake News is showing old footage of people climbing over our Ocean Area Fence. This is what it really looks lik… https://t.co/oH4qCb1x4P | FALSE                                                                                                                                        | 67880                                                                                                                                        | NA                                                                                                                                           | 2018-11-19 19:10:09                                                                                                                          |  TRUE                                                                                                                                        | NA                                                                                                                                           | 1064596708875747328                                                                                                                          | NA                                                                                                                                           | <a href=\"http://twitter.com/download/iphone\" rel=\"nofollow\">Twitter for iPhone</a>                                                           | realDonaldTrump                                                                                                                              | 22115                                                                                                                                        | FALSE                                                                                                                                        | FALSE                                                                                                                                        | NA                                                                                                                                           | NA                                                                                                                                           | \n",
       "| ....We no longer pay Pakistan the $Billions because they would take our money and do nothing for us, Bin Laden bein… https://t.co/ePHdS3WmzG | FALSE                                                                                                                                        | 97136                                                                                                                                        | NA                                                                                                                                           | 2018-11-19 15:41:19                                                                                                                          |  TRUE                                                                                                                                        | NA                                                                                                                                           | 1064544156960387072                                                                                                                          | NA                                                                                                                                           | <a href=\"http://twitter.com/download/iphone\" rel=\"nofollow\">Twitter for iPhone</a>                                                           | realDonaldTrump                                                                                                                              | 24812                                                                                                                                        | FALSE                                                                                                                                        | FALSE                                                                                                                                        | NA                                                                                                                                           | NA                                                                                                                                           | \n",
       "| Of course we should have captured Osama Bin Laden long before we did. I pointed him out in my book just BEFORE the… https://t.co/xbUMNwWgHj  | FALSE                                                                                                                                        | 89856                                                                                                                                        | NA                                                                                                                                           | 2018-11-19 15:26:39                                                                                                                          |  TRUE                                                                                                                                        | NA                                                                                                                                           | 1064540462848098304                                                                                                                          | NA                                                                                                                                           | <a href=\"http://twitter.com/download/iphone\" rel=\"nofollow\">Twitter for iPhone</a>                                                           | realDonaldTrump                                                                                                                              | 24851                                                                                                                                        | FALSE                                                                                                                                        | FALSE                                                                                                                                        | NA                                                                                                                                           | NA                                                                                                                                           | \n",
       "| RT @realDonaldTrump: “Boom: Record high business optimism, need for employees at 45-year high” https://t.co/jBFjEwAcfd                       | FALSE                                                                                                                                        |     0                                                                                                                                        | NA                                                                                                                                           | 2018-11-19 15:02:03                                                                                                                          | FALSE                                                                                                                                        | NA                                                                                                                                           | 1064534273380757504                                                                                                                          | NA                                                                                                                                           | <a href=\"http://twitter.com/download/iphone\" rel=\"nofollow\">Twitter for iPhone</a>                                                           | realDonaldTrump                                                                                                                              | 21184                                                                                                                                        |  TRUE                                                                                                                                        | FALSE                                                                                                                                        | NA                                                                                                                                           | NA                                                                                                                                           | \n",
       "\n",
       "\n"
      ],
      "text/plain": [
       "  text                                                                                                                                        \n",
       "1 RT @WhiteHouse: President Trump and the First Lady Participate in the White House Christmas Tree Delivery https://t.co/O6Nr8k1mnu           \n",
       "2 The Fake News is showing old footage of people climbing over our Ocean Area Fence. This is what it really looks lik… https://t.co/oH4qCb1x4P\n",
       "3 ....We no longer pay Pakistan the $Billions because they would take our money and do nothing for us, Bin Laden bein… https://t.co/ePHdS3WmzG\n",
       "4 Of course we should have captured Osama Bin Laden long before we did. I pointed him out in my book just BEFORE the… https://t.co/xbUMNwWgHj \n",
       "5 RT @realDonaldTrump: “Boom: Record high business optimism, need for employees at 45-year high” https://t.co/jBFjEwAcfd                      \n",
       "  favorited favoriteCount replyToSN created             truncated replyToSID\n",
       "1 FALSE         0         NA        2018-11-19 20:56:08 FALSE     NA        \n",
       "2 FALSE     67880         NA        2018-11-19 19:10:09  TRUE     NA        \n",
       "3 FALSE     97136         NA        2018-11-19 15:41:19  TRUE     NA        \n",
       "4 FALSE     89856         NA        2018-11-19 15:26:39  TRUE     NA        \n",
       "5 FALSE         0         NA        2018-11-19 15:02:03 FALSE     NA        \n",
       "  id                  replyToUID\n",
       "1 1064623382359085060 NA        \n",
       "2 1064596708875747328 NA        \n",
       "3 1064544156960387072 NA        \n",
       "4 1064540462848098304 NA        \n",
       "5 1064534273380757504 NA        \n",
       "  statusSource                                                                      \n",
       "1 <a href=\"http://twitter.com/download/iphone\" rel=\"nofollow\">Twitter for iPhone</a>\n",
       "2 <a href=\"http://twitter.com/download/iphone\" rel=\"nofollow\">Twitter for iPhone</a>\n",
       "3 <a href=\"http://twitter.com/download/iphone\" rel=\"nofollow\">Twitter for iPhone</a>\n",
       "4 <a href=\"http://twitter.com/download/iphone\" rel=\"nofollow\">Twitter for iPhone</a>\n",
       "5 <a href=\"http://twitter.com/download/iphone\" rel=\"nofollow\">Twitter for iPhone</a>\n",
       "  screenName      retweetCount isRetweet retweeted longitude latitude\n",
       "1 realDonaldTrump  4826         TRUE     FALSE     NA        NA      \n",
       "2 realDonaldTrump 22115        FALSE     FALSE     NA        NA      \n",
       "3 realDonaldTrump 24812        FALSE     FALSE     NA        NA      \n",
       "4 realDonaldTrump 24851        FALSE     FALSE     NA        NA      \n",
       "5 realDonaldTrump 21184         TRUE     FALSE     NA        NA      "
      ]
     },
     "metadata": {},
     "output_type": "display_data"
    }
   ],
   "source": [
    "# Get n many tweets per query\n",
    "# Note that Twitter only returns 100 tweets per query; the package twitteR internally handles code asking for more than 100 requests.\n",
    "donald.timeline <- userTimeline(\"realdonaldtrump\", n=100, includeRts=TRUE)\n",
    "\n",
    "\n",
    "# Getting information from a particular account\n",
    "head(donald.timeline,5)\n",
    "\n",
    "# Convert to a data frame\n",
    "head(twListToDF(donald.timeline),5)"
   ]
  },
  {
   "cell_type": "code",
   "execution_count": null,
   "metadata": {},
   "outputs": [],
   "source": [
    "# Using favorite function to get Dr. Joseph Mercola\n",
    "userFav <- twListToDF(favorites(\"mercola\", n=20))\n",
    "head(userFav,5)"
   ]
  },
  {
   "cell_type": "markdown",
   "metadata": {},
   "source": [
    "## 1.2 Exploratory Extraction"
   ]
  },
  {
   "cell_type": "code",
   "execution_count": null,
   "metadata": {},
   "outputs": [],
   "source": [
    "# Collect measle tweets\n",
    "\n",
    "\n",
    "# Collect vaccines tweets\n",
    "\n",
    "\n",
    "# Look at the first 5 elements\n",
    "\n",
    "\n",
    "# Look at the first 5 elements\n"
   ]
  },
  {
   "cell_type": "code",
   "execution_count": null,
   "metadata": {},
   "outputs": [],
   "source": [
    "# Post retweet strip\n",
    "\n",
    "# Look at the first 5 elements\n"
   ]
  },
  {
   "cell_type": "code",
   "execution_count": null,
   "metadata": {},
   "outputs": [],
   "source": [
    "# Pre retweet strip\n",
    "\n",
    "# Look at the first 5 elements\n"
   ]
  },
  {
   "cell_type": "code",
   "execution_count": null,
   "metadata": {},
   "outputs": [],
   "source": [
    "# Export as csv files\n",
    "\n",
    "# Export as text files\n"
   ]
  },
  {
   "cell_type": "markdown",
   "metadata": {},
   "source": [
    "## 1.3 Exploratory Graphing"
   ]
  },
  {
   "cell_type": "code",
   "execution_count": null,
   "metadata": {},
   "outputs": [],
   "source": [
    "# Load readxl and xlsx libraries\n",
    "\n",
    "# Read in CDC excel file"
   ]
  },
  {
   "cell_type": "code",
   "execution_count": null,
   "metadata": {},
   "outputs": [],
   "source": [
    "# Remove the total row from the data frame\n"
   ]
  },
  {
   "cell_type": "code",
   "execution_count": null,
   "metadata": {},
   "outputs": [],
   "source": [
    "# Remove the 2018 and source column from the data frame\n"
   ]
  },
  {
   "cell_type": "code",
   "execution_count": null,
   "metadata": {},
   "outputs": [],
   "source": [
    "# Load necessary plotting libraries\n",
    "\n",
    "# Use the melt function to create an easier plotting structure\n",
    "\n",
    "# Specify default jupyter window size\n",
    "\n",
    "# Let's visualzie this!!!\n",
    "# Measles Cases Vs. Year\n",
    "\n",
    "# Measles Cases Vs. State\n",
    "\n",
    "# Measles Cases Vs. Year (Colorful)\n",
    "\n",
    "\n",
    "# Measles Cases Vs. Year (Colorful)\n"
   ]
  },
  {
   "cell_type": "code",
   "execution_count": null,
   "metadata": {},
   "outputs": [],
   "source": [
    "# Generate plot with multiple grids (measles cases by year)\n",
    "\n",
    "\n",
    "# Generate plot with multiple grids (measles cases by state)\n"
   ]
  },
  {
   "cell_type": "code",
   "execution_count": null,
   "metadata": {},
   "outputs": [],
   "source": [
    "# Generate boxplot (measles cases by year)\n",
    "\n",
    "\n",
    "# Generate boxplot (measles cases by year)\n"
   ]
  },
  {
   "cell_type": "markdown",
   "metadata": {},
   "source": [
    "# 2 Sentiment Analysis"
   ]
  },
  {
   "cell_type": "code",
   "execution_count": null,
   "metadata": {},
   "outputs": [],
   "source": [
    "# Load in nece\n",
    "library(ggplot2)\n",
    "library(grid)\n",
    "library(gridExtra)\n",
    "library(reshape2)\n",
    "library(syuzhet)\n",
    "\n",
    "# Let's create a similar structure like the one pattern.nlp uses\n",
    "polarity.df <- function(sentences,method){\n",
    "    syuzhet_vector <- get_sentiment(sentences, method=method,) # Get the polarity of each sentences  \n",
    "    pol_mtrx <- matrix(nr=length(sentences), nc=2) # create a similar structure like the one pattern.nlp uses\n",
    "    col1_name <- paste(\"polarity\", \"(method:\", sprintf(\"%s)\", method), sep=\" \") # get the name of the sentiment method\n",
    "    colnames(pol_mtrx) <- c(col1_name, 'id')\n",
    "    for(i in seq_along(sentences)){\t\n",
    "        pol <- syuzhet_vector[i]\n",
    "        rm_space <- gsub(\"\\\\s+\",\" \",sentences[i]) # remove unnessary spacing\n",
    "        id <- tolower(rm_space) # switch to lowercase\n",
    "        pol_mtrx[i,] <- c(pol, id)\n",
    "    }\n",
    "    pol.df <- as.data.frame(pol_mtrx) # this is only really useful for using ggplot2(only works with data.frames)\n",
    "}\n",
    "\n",
    "measlesNoRT <- twListToDF(searchTwitter(\"#measles -filter:retweets\", n = 5))\n",
    "\n",
    "# Default sentiment method is syuzhet\n",
    "syuz <- polarity.df(measlesNoRT$text,\"syuzhet\")\n",
    "\n",
    "# Take a look at the result\n",
    "syuz\n",
    "\n",
    "# Try sentiment method nrc\n",
    "nrc <- polarity.df(measlesNoRT$text,\"nrc\")\n",
    "\n",
    "# Take a look at the result\n",
    "nrc\n",
    "\n",
    "# Try sentiment method bing\n",
    "bing <- polarity.df(measlesNoRT$text,\"bing\")\n",
    "\n",
    "# Take a look at the result\n",
    "bing\n",
    "\n",
    "# Try sentiment method afinn\n",
    "afinn <- polarity.df(measlesNoRT$text,\"afinn\")\n",
    "\n",
    "# Take a look at the result\n",
    "afinn"
   ]
  },
  {
   "cell_type": "markdown",
   "metadata": {},
   "source": [
    "# 3. Machine Learning with R: A Tutorial on Building Text Classifiers"
   ]
  },
  {
   "cell_type": "code",
   "execution_count": 9,
   "metadata": {},
   "outputs": [
    {
     "name": "stdout",
     "output_type": "stream",
     "text": [
      "\n",
      "The downloaded binary packages are in\n",
      "\t/var/folders/bg/wxdnd22s695f4569t0v1v2x80000gn/T//RtmpPc9Of1/downloaded_packages\n"
     ]
    },
    {
     "name": "stderr",
     "output_type": "stream",
     "text": [
      "also installing the dependencies ‘numDeriv’, ‘SQUAREM’, ‘abind’, ‘lava’, ‘CVST’, ‘DEoptimR’, ‘magic’, ‘prodlim’, ‘DRR’, ‘robustbase’, ‘sfsmisc’, ‘geometry’, ‘glue’, ‘rlang’, ‘iterators’, ‘ipred’, ‘dimRed’, ‘timeDate’, ‘ddalpha’, ‘purrr’, ‘gower’, ‘RcppRoll’, ‘tidyselect’, ‘pls’, ‘foreach’, ‘ModelMetrics’, ‘recipes’\n",
      "\n"
     ]
    },
    {
     "name": "stdout",
     "output_type": "stream",
     "text": [
      "\n",
      "  There is a binary version available but the source version is later:\n",
      "             binary source needs_compilation\n",
      "robustbase 0.93-1.1 0.93-3              TRUE\n",
      "\n",
      "\n",
      "The downloaded binary packages are in\n",
      "\t/var/folders/bg/wxdnd22s695f4569t0v1v2x80000gn/T//RtmpPc9Of1/downloaded_packages\n"
     ]
    },
    {
     "name": "stderr",
     "output_type": "stream",
     "text": [
      "installing the source package ‘robustbase’\n",
      "\n",
      "Warning message in install.packages(\"caret\"):\n",
      "“installation of package ‘robustbase’ had non-zero exit status”"
     ]
    },
    {
     "name": "stdout",
     "output_type": "stream",
     "text": [
      "\n",
      "The downloaded binary packages are in\n",
      "\t/var/folders/bg/wxdnd22s695f4569t0v1v2x80000gn/T//RtmpPc9Of1/downloaded_packages\n"
     ]
    },
    {
     "name": "stderr",
     "output_type": "stream",
     "text": [
      "also installing the dependencies ‘bindr’, ‘bindrcpp’, ‘Rcpp’, ‘plogr’\n",
      "\n"
     ]
    },
    {
     "name": "stdout",
     "output_type": "stream",
     "text": [
      "\n",
      "  There is a binary version available but the source version is later:\n",
      "      binary source needs_compilation\n",
      "dplyr  0.7.6  0.7.7              TRUE\n",
      "\n",
      "\n",
      "The downloaded binary packages are in\n",
      "\t/var/folders/bg/wxdnd22s695f4569t0v1v2x80000gn/T//RtmpPc9Of1/downloaded_packages\n"
     ]
    },
    {
     "name": "stderr",
     "output_type": "stream",
     "text": [
      "installing the source package ‘dplyr’\n",
      "\n"
     ]
    },
    {
     "name": "stdout",
     "output_type": "stream",
     "text": [
      "\n",
      "The downloaded binary packages are in\n",
      "\t/var/folders/bg/wxdnd22s695f4569t0v1v2x80000gn/T//RtmpPc9Of1/downloaded_packages\n",
      "\n",
      "The downloaded binary packages are in\n",
      "\t/var/folders/bg/wxdnd22s695f4569t0v1v2x80000gn/T//RtmpPc9Of1/downloaded_packages\n"
     ]
    }
   ],
   "source": [
    "# installing necessary packages:\n",
    "install.packages(\"kernlab\")\n",
    "install.packages(\"caret\")\n",
    "install.packages(\"tm\")\n",
    "install.packages(\"dplyr\")\n",
    "install.packages(\"splitstackshape\")\n",
    "install.packages(\"e1071\")"
   ]
  },
  {
   "cell_type": "code",
   "execution_count": 1,
   "metadata": {},
   "outputs": [
    {
     "name": "stderr",
     "output_type": "stream",
     "text": [
      "Warning message:\n",
      "“package ‘kernlab’ was built under R version 3.4.4”Warning message:\n",
      "“package ‘caret’ was built under R version 3.4.4”Loading required package: lattice\n",
      "Loading required package: ggplot2\n",
      "\n",
      "Attaching package: ‘ggplot2’\n",
      "\n",
      "The following object is masked from ‘package:kernlab’:\n",
      "\n",
      "    alpha\n",
      "\n",
      "Warning message:\n",
      "“package ‘tm’ was built under R version 3.4.4”Loading required package: NLP\n",
      "\n",
      "Attaching package: ‘NLP’\n",
      "\n",
      "The following object is masked from ‘package:ggplot2’:\n",
      "\n",
      "    annotate\n",
      "\n",
      "\n",
      "Attaching package: ‘dplyr’\n",
      "\n",
      "The following objects are masked from ‘package:stats’:\n",
      "\n",
      "    filter, lag\n",
      "\n",
      "The following objects are masked from ‘package:base’:\n",
      "\n",
      "    intersect, setdiff, setequal, union\n",
      "\n",
      "Warning message:\n",
      "“package ‘splitstackshape’ was built under R version 3.4.4”Warning message:\n",
      "“package ‘e1071’ was built under R version 3.4.4”"
     ]
    }
   ],
   "source": [
    "# Load necessary packages\n",
    "library(kernlab) \n",
    "library(caret) \n",
    "library(tm) \n",
    "library(dplyr) \n",
    "library(splitstackshape)\n",
    "library(e1071)"
   ]
  },
  {
   "cell_type": "code",
   "execution_count": 2,
   "metadata": {},
   "outputs": [],
   "source": [
    "# Step 1. Ingest training data and clean it.\n",
    "train <- VCorpus(DirSource(\"Training\", encoding = \"UTF-8\"), readerControl=list(language=\"English\"))\n",
    "train <- tm_map(train, content_transformer(stripWhitespace))\n",
    "train <- tm_map(train, content_transformer(tolower))\n",
    "train <- tm_map(train, content_transformer(removeNumbers))\n",
    "train <- tm_map(train, content_transformer(removePunctuation))"
   ]
  },
  {
   "cell_type": "code",
   "execution_count": 3,
   "metadata": {},
   "outputs": [],
   "source": [
    "# Step 2. Create document term matrices for the training data.\n",
    "train.dtm <- as.matrix(DocumentTermMatrix(train, control=list(wordLengths=c(1,Inf))))"
   ]
  },
  {
   "cell_type": "code",
   "execution_count": 4,
   "metadata": {},
   "outputs": [
    {
     "data": {
      "text/html": [
       "<table>\n",
       "<thead><tr><th></th><th scope=col>a</th><th scope=col>abandon</th><th scope=col>abandonded</th><th scope=col>abandoned</th><th scope=col>abandoning</th><th scope=col>abbaacutes</th><th scope=col>abberation</th><th scope=col>abdulbahaacute</th><th scope=col>aberration</th><th scope=col>ability</th><th scope=col>⋯</th><th scope=col>zebra</th><th scope=col>zebraquot</th><th scope=col>zero</th><th scope=col>zgriks</th><th scope=col>zillion</th><th scope=col>zing</th><th scope=col>zombie</th><th scope=col>zombies</th><th scope=col>zoom</th><th scope=col>zoos</th></tr></thead>\n",
       "<tbody>\n",
       "\t<tr><th scope=row>Neg_1.0_A100NXYDA6HSKA.txt</th><td> 0</td><td>0 </td><td>0 </td><td>0 </td><td>0 </td><td>0 </td><td>0 </td><td>0 </td><td>0 </td><td>0 </td><td>⋯ </td><td>0 </td><td>0 </td><td>0 </td><td>0 </td><td>0 </td><td>0 </td><td>0 </td><td>0 </td><td>0 </td><td>0 </td></tr>\n",
       "\t<tr><th scope=row>Neg_1.0_A106CGPJUBDG0P.txt</th><td> 1</td><td>0 </td><td>0 </td><td>0 </td><td>0 </td><td>0 </td><td>0 </td><td>0 </td><td>0 </td><td>0 </td><td>⋯ </td><td>0 </td><td>0 </td><td>0 </td><td>0 </td><td>0 </td><td>0 </td><td>0 </td><td>0 </td><td>0 </td><td>0 </td></tr>\n",
       "\t<tr><th scope=row>Neg_1.0_A10KECJUJOBO9H.txt</th><td> 4</td><td>0 </td><td>0 </td><td>0 </td><td>0 </td><td>0 </td><td>0 </td><td>0 </td><td>0 </td><td>0 </td><td>⋯ </td><td>0 </td><td>0 </td><td>0 </td><td>0 </td><td>0 </td><td>0 </td><td>0 </td><td>0 </td><td>0 </td><td>0 </td></tr>\n",
       "\t<tr><th scope=row>Neg_1.0_A10VGXGJD9JMOC.txt</th><td> 8</td><td>0 </td><td>0 </td><td>0 </td><td>0 </td><td>0 </td><td>0 </td><td>0 </td><td>0 </td><td>0 </td><td>⋯ </td><td>0 </td><td>0 </td><td>0 </td><td>0 </td><td>0 </td><td>0 </td><td>0 </td><td>0 </td><td>0 </td><td>0 </td></tr>\n",
       "\t<tr><th scope=row>Neg_1.0_A11423AYVMMC4K.txt</th><td>19</td><td>1 </td><td>0 </td><td>0 </td><td>0 </td><td>0 </td><td>0 </td><td>0 </td><td>0 </td><td>0 </td><td>⋯ </td><td>0 </td><td>0 </td><td>0 </td><td>0 </td><td>0 </td><td>0 </td><td>0 </td><td>0 </td><td>0 </td><td>0 </td></tr>\n",
       "\t<tr><th scope=row>Neg_1.0_A11DMJCWJP9FWM.txt</th><td> 2</td><td>0 </td><td>0 </td><td>0 </td><td>0 </td><td>0 </td><td>0 </td><td>0 </td><td>0 </td><td>0 </td><td>⋯ </td><td>0 </td><td>0 </td><td>0 </td><td>0 </td><td>0 </td><td>0 </td><td>0 </td><td>0 </td><td>0 </td><td>0 </td></tr>\n",
       "\t<tr><th scope=row>Neg_1.0_A11IHV8N5A8IC7.txt</th><td> 1</td><td>0 </td><td>0 </td><td>0 </td><td>0 </td><td>0 </td><td>0 </td><td>0 </td><td>0 </td><td>1 </td><td>⋯ </td><td>0 </td><td>0 </td><td>0 </td><td>0 </td><td>0 </td><td>0 </td><td>0 </td><td>0 </td><td>0 </td><td>0 </td></tr>\n",
       "\t<tr><th scope=row>Neg_1.0_A1243Z7MQ4FRCW.txt</th><td> 2</td><td>0 </td><td>0 </td><td>0 </td><td>0 </td><td>0 </td><td>0 </td><td>0 </td><td>0 </td><td>0 </td><td>⋯ </td><td>0 </td><td>0 </td><td>0 </td><td>0 </td><td>0 </td><td>0 </td><td>0 </td><td>0 </td><td>0 </td><td>0 </td></tr>\n",
       "\t<tr><th scope=row>Neg_1.0_A12A41D1UD193O.txt</th><td> 1</td><td>0 </td><td>0 </td><td>0 </td><td>0 </td><td>0 </td><td>0 </td><td>0 </td><td>0 </td><td>0 </td><td>⋯ </td><td>0 </td><td>0 </td><td>0 </td><td>0 </td><td>0 </td><td>0 </td><td>0 </td><td>0 </td><td>0 </td><td>0 </td></tr>\n",
       "\t<tr><th scope=row>Neg_1.0_A12BTR2MVK2BR5.txt</th><td> 3</td><td>0 </td><td>0 </td><td>0 </td><td>0 </td><td>0 </td><td>0 </td><td>0 </td><td>0 </td><td>0 </td><td>⋯ </td><td>0 </td><td>0 </td><td>0 </td><td>0 </td><td>0 </td><td>0 </td><td>0 </td><td>0 </td><td>0 </td><td>0 </td></tr>\n",
       "</tbody>\n",
       "</table>\n"
      ],
      "text/markdown": [
       "\n",
       "| <!--/--> | a | abandon | abandonded | abandoned | abandoning | abbaacutes | abberation | abdulbahaacute | aberration | ability | ⋯ | zebra | zebraquot | zero | zgriks | zillion | zing | zombie | zombies | zoom | zoos | \n",
       "|---|---|---|---|---|---|---|---|---|---|\n",
       "| Neg_1.0_A100NXYDA6HSKA.txt |  0 | 0  | 0  | 0  | 0  | 0  | 0  | 0  | 0  | 0  | ⋯  | 0  | 0  | 0  | 0  | 0  | 0  | 0  | 0  | 0  | 0  | \n",
       "| Neg_1.0_A106CGPJUBDG0P.txt |  1 | 0  | 0  | 0  | 0  | 0  | 0  | 0  | 0  | 0  | ⋯  | 0  | 0  | 0  | 0  | 0  | 0  | 0  | 0  | 0  | 0  | \n",
       "| Neg_1.0_A10KECJUJOBO9H.txt |  4 | 0  | 0  | 0  | 0  | 0  | 0  | 0  | 0  | 0  | ⋯  | 0  | 0  | 0  | 0  | 0  | 0  | 0  | 0  | 0  | 0  | \n",
       "| Neg_1.0_A10VGXGJD9JMOC.txt |  8 | 0  | 0  | 0  | 0  | 0  | 0  | 0  | 0  | 0  | ⋯  | 0  | 0  | 0  | 0  | 0  | 0  | 0  | 0  | 0  | 0  | \n",
       "| Neg_1.0_A11423AYVMMC4K.txt | 19 | 1  | 0  | 0  | 0  | 0  | 0  | 0  | 0  | 0  | ⋯  | 0  | 0  | 0  | 0  | 0  | 0  | 0  | 0  | 0  | 0  | \n",
       "| Neg_1.0_A11DMJCWJP9FWM.txt |  2 | 0  | 0  | 0  | 0  | 0  | 0  | 0  | 0  | 0  | ⋯  | 0  | 0  | 0  | 0  | 0  | 0  | 0  | 0  | 0  | 0  | \n",
       "| Neg_1.0_A11IHV8N5A8IC7.txt |  1 | 0  | 0  | 0  | 0  | 0  | 0  | 0  | 0  | 1  | ⋯  | 0  | 0  | 0  | 0  | 0  | 0  | 0  | 0  | 0  | 0  | \n",
       "| Neg_1.0_A1243Z7MQ4FRCW.txt |  2 | 0  | 0  | 0  | 0  | 0  | 0  | 0  | 0  | 0  | ⋯  | 0  | 0  | 0  | 0  | 0  | 0  | 0  | 0  | 0  | 0  | \n",
       "| Neg_1.0_A12A41D1UD193O.txt |  1 | 0  | 0  | 0  | 0  | 0  | 0  | 0  | 0  | 0  | ⋯  | 0  | 0  | 0  | 0  | 0  | 0  | 0  | 0  | 0  | 0  | \n",
       "| Neg_1.0_A12BTR2MVK2BR5.txt |  3 | 0  | 0  | 0  | 0  | 0  | 0  | 0  | 0  | 0  | ⋯  | 0  | 0  | 0  | 0  | 0  | 0  | 0  | 0  | 0  | 0  | \n",
       "\n",
       "\n"
      ],
      "text/plain": [
       "                           a  abandon abandonded abandoned abandoning\n",
       "Neg_1.0_A100NXYDA6HSKA.txt  0 0       0          0         0         \n",
       "Neg_1.0_A106CGPJUBDG0P.txt  1 0       0          0         0         \n",
       "Neg_1.0_A10KECJUJOBO9H.txt  4 0       0          0         0         \n",
       "Neg_1.0_A10VGXGJD9JMOC.txt  8 0       0          0         0         \n",
       "Neg_1.0_A11423AYVMMC4K.txt 19 1       0          0         0         \n",
       "Neg_1.0_A11DMJCWJP9FWM.txt  2 0       0          0         0         \n",
       "Neg_1.0_A11IHV8N5A8IC7.txt  1 0       0          0         0         \n",
       "Neg_1.0_A1243Z7MQ4FRCW.txt  2 0       0          0         0         \n",
       "Neg_1.0_A12A41D1UD193O.txt  1 0       0          0         0         \n",
       "Neg_1.0_A12BTR2MVK2BR5.txt  3 0       0          0         0         \n",
       "                           abbaacutes abberation abdulbahaacute aberration\n",
       "Neg_1.0_A100NXYDA6HSKA.txt 0          0          0              0         \n",
       "Neg_1.0_A106CGPJUBDG0P.txt 0          0          0              0         \n",
       "Neg_1.0_A10KECJUJOBO9H.txt 0          0          0              0         \n",
       "Neg_1.0_A10VGXGJD9JMOC.txt 0          0          0              0         \n",
       "Neg_1.0_A11423AYVMMC4K.txt 0          0          0              0         \n",
       "Neg_1.0_A11DMJCWJP9FWM.txt 0          0          0              0         \n",
       "Neg_1.0_A11IHV8N5A8IC7.txt 0          0          0              0         \n",
       "Neg_1.0_A1243Z7MQ4FRCW.txt 0          0          0              0         \n",
       "Neg_1.0_A12A41D1UD193O.txt 0          0          0              0         \n",
       "Neg_1.0_A12BTR2MVK2BR5.txt 0          0          0              0         \n",
       "                           ability ⋯ zebra zebraquot zero zgriks zillion zing\n",
       "Neg_1.0_A100NXYDA6HSKA.txt 0       ⋯ 0     0         0    0      0       0   \n",
       "Neg_1.0_A106CGPJUBDG0P.txt 0       ⋯ 0     0         0    0      0       0   \n",
       "Neg_1.0_A10KECJUJOBO9H.txt 0       ⋯ 0     0         0    0      0       0   \n",
       "Neg_1.0_A10VGXGJD9JMOC.txt 0       ⋯ 0     0         0    0      0       0   \n",
       "Neg_1.0_A11423AYVMMC4K.txt 0       ⋯ 0     0         0    0      0       0   \n",
       "Neg_1.0_A11DMJCWJP9FWM.txt 0       ⋯ 0     0         0    0      0       0   \n",
       "Neg_1.0_A11IHV8N5A8IC7.txt 1       ⋯ 0     0         0    0      0       0   \n",
       "Neg_1.0_A1243Z7MQ4FRCW.txt 0       ⋯ 0     0         0    0      0       0   \n",
       "Neg_1.0_A12A41D1UD193O.txt 0       ⋯ 0     0         0    0      0       0   \n",
       "Neg_1.0_A12BTR2MVK2BR5.txt 0       ⋯ 0     0         0    0      0       0   \n",
       "                           zombie zombies zoom zoos\n",
       "Neg_1.0_A100NXYDA6HSKA.txt 0      0       0    0   \n",
       "Neg_1.0_A106CGPJUBDG0P.txt 0      0       0    0   \n",
       "Neg_1.0_A10KECJUJOBO9H.txt 0      0       0    0   \n",
       "Neg_1.0_A10VGXGJD9JMOC.txt 0      0       0    0   \n",
       "Neg_1.0_A11423AYVMMC4K.txt 0      0       0    0   \n",
       "Neg_1.0_A11DMJCWJP9FWM.txt 0      0       0    0   \n",
       "Neg_1.0_A11IHV8N5A8IC7.txt 0      0       0    0   \n",
       "Neg_1.0_A1243Z7MQ4FRCW.txt 0      0       0    0   \n",
       "Neg_1.0_A12A41D1UD193O.txt 0      0       0    0   \n",
       "Neg_1.0_A12BTR2MVK2BR5.txt 0      0       0    0   "
      ]
     },
     "metadata": {},
     "output_type": "display_data"
    }
   ],
   "source": [
    "head(train.dtm,10)"
   ]
  },
  {
   "cell_type": "code",
   "execution_count": 6,
   "metadata": {},
   "outputs": [],
   "source": [
    "# Step 3. Ingest testing data and clean it.\n",
    "test <- VCorpus(DirSource(\"Test\", encoding = \"UTF-8\"), readerControl=list(language=\"English\"))\n",
    "test <- tm_map(test, content_transformer(stripWhitespace))\n",
    "test <- tm_map(test, content_transformer(tolower))\n",
    "test <- tm_map(test, content_transformer(removeNumbers))\n",
    "test <- tm_map(test, content_transformer(removePunctuation))\n",
    "test.dtm <- as.matrix(DocumentTermMatrix(test, control=list(wordLengths=c(1,Inf))))"
   ]
  },
  {
   "cell_type": "code",
   "execution_count": 7,
   "metadata": {},
   "outputs": [
    {
     "data": {
      "text/html": [
       "<table>\n",
       "<thead><tr><th></th><th scope=col>a</th><th scope=col>abandon</th><th scope=col>abandoned</th><th scope=col>abandons</th><th scope=col>abbrevations</th><th scope=col>abbreviated</th><th scope=col>abet</th><th scope=col>abilities</th><th scope=col>ability</th><th scope=col>able</th><th scope=col>⋯</th><th scope=col>yourselves</th><th scope=col>youth</th><th scope=col>youthe</th><th scope=col>youve</th><th scope=col>yuk</th><th scope=col>yuldar</th><th scope=col>yuppie</th><th scope=col>zero</th><th scope=col>zinger</th><th scope=col>zipped</th></tr></thead>\n",
       "<tbody>\n",
       "\t<tr><th scope=row>A1A01HFSCMCF7Q.txt</th><td> 1</td><td>0 </td><td>0 </td><td>0 </td><td>0 </td><td>0 </td><td>0 </td><td>0 </td><td>0 </td><td>0 </td><td>⋯ </td><td>0 </td><td>0 </td><td>0 </td><td>0 </td><td>0 </td><td>0 </td><td>0 </td><td>0 </td><td>0 </td><td>0 </td></tr>\n",
       "\t<tr><th scope=row>A1A0GOEYT9G6EA.txt</th><td> 2</td><td>0 </td><td>0 </td><td>0 </td><td>0 </td><td>0 </td><td>0 </td><td>0 </td><td>1 </td><td>0 </td><td>⋯ </td><td>0 </td><td>0 </td><td>0 </td><td>0 </td><td>0 </td><td>0 </td><td>0 </td><td>0 </td><td>0 </td><td>0 </td></tr>\n",
       "\t<tr><th scope=row>A1A0J4COEW6HLG.txt</th><td> 2</td><td>0 </td><td>0 </td><td>0 </td><td>0 </td><td>0 </td><td>0 </td><td>0 </td><td>0 </td><td>0 </td><td>⋯ </td><td>0 </td><td>0 </td><td>0 </td><td>0 </td><td>0 </td><td>0 </td><td>0 </td><td>0 </td><td>0 </td><td>0 </td></tr>\n",
       "\t<tr><th scope=row>A1A0S7SOGWO9SU.txt</th><td> 9</td><td>0 </td><td>0 </td><td>0 </td><td>0 </td><td>0 </td><td>0 </td><td>0 </td><td>0 </td><td>0 </td><td>⋯ </td><td>0 </td><td>0 </td><td>0 </td><td>0 </td><td>0 </td><td>0 </td><td>0 </td><td>0 </td><td>0 </td><td>0 </td></tr>\n",
       "\t<tr><th scope=row>A1A2H5FEDJO6WK.txt</th><td> 2</td><td>0 </td><td>0 </td><td>0 </td><td>0 </td><td>0 </td><td>0 </td><td>0 </td><td>0 </td><td>0 </td><td>⋯ </td><td>0 </td><td>0 </td><td>0 </td><td>0 </td><td>0 </td><td>0 </td><td>0 </td><td>0 </td><td>0 </td><td>0 </td></tr>\n",
       "\t<tr><th scope=row>A1A2P71PUVYY1X.txt</th><td> 1</td><td>0 </td><td>0 </td><td>0 </td><td>0 </td><td>0 </td><td>0 </td><td>0 </td><td>0 </td><td>0 </td><td>⋯ </td><td>0 </td><td>0 </td><td>0 </td><td>0 </td><td>0 </td><td>0 </td><td>0 </td><td>0 </td><td>0 </td><td>0 </td></tr>\n",
       "\t<tr><th scope=row>A1A2YTFX2XC4O2.txt</th><td>21</td><td>0 </td><td>0 </td><td>0 </td><td>0 </td><td>0 </td><td>0 </td><td>0 </td><td>0 </td><td>0 </td><td>⋯ </td><td>0 </td><td>0 </td><td>0 </td><td>0 </td><td>0 </td><td>0 </td><td>0 </td><td>0 </td><td>0 </td><td>0 </td></tr>\n",
       "\t<tr><th scope=row>A1A3HEK06QW97H.txt</th><td> 0</td><td>0 </td><td>0 </td><td>0 </td><td>0 </td><td>0 </td><td>0 </td><td>0 </td><td>0 </td><td>0 </td><td>⋯ </td><td>0 </td><td>0 </td><td>0 </td><td>0 </td><td>0 </td><td>0 </td><td>0 </td><td>0 </td><td>0 </td><td>0 </td></tr>\n",
       "\t<tr><th scope=row>A1A41X6NMG2RM4.txt</th><td> 1</td><td>0 </td><td>0 </td><td>0 </td><td>0 </td><td>0 </td><td>0 </td><td>0 </td><td>0 </td><td>0 </td><td>⋯ </td><td>0 </td><td>0 </td><td>0 </td><td>0 </td><td>0 </td><td>0 </td><td>0 </td><td>0 </td><td>0 </td><td>0 </td></tr>\n",
       "\t<tr><th scope=row>A1A692B4XLFOLL.txt</th><td> 8</td><td>0 </td><td>0 </td><td>0 </td><td>0 </td><td>0 </td><td>0 </td><td>0 </td><td>0 </td><td>0 </td><td>⋯ </td><td>0 </td><td>0 </td><td>0 </td><td>0 </td><td>0 </td><td>0 </td><td>0 </td><td>0 </td><td>0 </td><td>0 </td></tr>\n",
       "</tbody>\n",
       "</table>\n"
      ],
      "text/markdown": [
       "\n",
       "| <!--/--> | a | abandon | abandoned | abandons | abbrevations | abbreviated | abet | abilities | ability | able | ⋯ | yourselves | youth | youthe | youve | yuk | yuldar | yuppie | zero | zinger | zipped | \n",
       "|---|---|---|---|---|---|---|---|---|---|\n",
       "| A1A01HFSCMCF7Q.txt |  1 | 0  | 0  | 0  | 0  | 0  | 0  | 0  | 0  | 0  | ⋯  | 0  | 0  | 0  | 0  | 0  | 0  | 0  | 0  | 0  | 0  | \n",
       "| A1A0GOEYT9G6EA.txt |  2 | 0  | 0  | 0  | 0  | 0  | 0  | 0  | 1  | 0  | ⋯  | 0  | 0  | 0  | 0  | 0  | 0  | 0  | 0  | 0  | 0  | \n",
       "| A1A0J4COEW6HLG.txt |  2 | 0  | 0  | 0  | 0  | 0  | 0  | 0  | 0  | 0  | ⋯  | 0  | 0  | 0  | 0  | 0  | 0  | 0  | 0  | 0  | 0  | \n",
       "| A1A0S7SOGWO9SU.txt |  9 | 0  | 0  | 0  | 0  | 0  | 0  | 0  | 0  | 0  | ⋯  | 0  | 0  | 0  | 0  | 0  | 0  | 0  | 0  | 0  | 0  | \n",
       "| A1A2H5FEDJO6WK.txt |  2 | 0  | 0  | 0  | 0  | 0  | 0  | 0  | 0  | 0  | ⋯  | 0  | 0  | 0  | 0  | 0  | 0  | 0  | 0  | 0  | 0  | \n",
       "| A1A2P71PUVYY1X.txt |  1 | 0  | 0  | 0  | 0  | 0  | 0  | 0  | 0  | 0  | ⋯  | 0  | 0  | 0  | 0  | 0  | 0  | 0  | 0  | 0  | 0  | \n",
       "| A1A2YTFX2XC4O2.txt | 21 | 0  | 0  | 0  | 0  | 0  | 0  | 0  | 0  | 0  | ⋯  | 0  | 0  | 0  | 0  | 0  | 0  | 0  | 0  | 0  | 0  | \n",
       "| A1A3HEK06QW97H.txt |  0 | 0  | 0  | 0  | 0  | 0  | 0  | 0  | 0  | 0  | ⋯  | 0  | 0  | 0  | 0  | 0  | 0  | 0  | 0  | 0  | 0  | \n",
       "| A1A41X6NMG2RM4.txt |  1 | 0  | 0  | 0  | 0  | 0  | 0  | 0  | 0  | 0  | ⋯  | 0  | 0  | 0  | 0  | 0  | 0  | 0  | 0  | 0  | 0  | \n",
       "| A1A692B4XLFOLL.txt |  8 | 0  | 0  | 0  | 0  | 0  | 0  | 0  | 0  | 0  | ⋯  | 0  | 0  | 0  | 0  | 0  | 0  | 0  | 0  | 0  | 0  | \n",
       "\n",
       "\n"
      ],
      "text/plain": [
       "                   a  abandon abandoned abandons abbrevations abbreviated abet\n",
       "A1A01HFSCMCF7Q.txt  1 0       0         0        0            0           0   \n",
       "A1A0GOEYT9G6EA.txt  2 0       0         0        0            0           0   \n",
       "A1A0J4COEW6HLG.txt  2 0       0         0        0            0           0   \n",
       "A1A0S7SOGWO9SU.txt  9 0       0         0        0            0           0   \n",
       "A1A2H5FEDJO6WK.txt  2 0       0         0        0            0           0   \n",
       "A1A2P71PUVYY1X.txt  1 0       0         0        0            0           0   \n",
       "A1A2YTFX2XC4O2.txt 21 0       0         0        0            0           0   \n",
       "A1A3HEK06QW97H.txt  0 0       0         0        0            0           0   \n",
       "A1A41X6NMG2RM4.txt  1 0       0         0        0            0           0   \n",
       "A1A692B4XLFOLL.txt  8 0       0         0        0            0           0   \n",
       "                   abilities ability able ⋯ yourselves youth youthe youve yuk\n",
       "A1A01HFSCMCF7Q.txt 0         0       0    ⋯ 0          0     0      0     0  \n",
       "A1A0GOEYT9G6EA.txt 0         1       0    ⋯ 0          0     0      0     0  \n",
       "A1A0J4COEW6HLG.txt 0         0       0    ⋯ 0          0     0      0     0  \n",
       "A1A0S7SOGWO9SU.txt 0         0       0    ⋯ 0          0     0      0     0  \n",
       "A1A2H5FEDJO6WK.txt 0         0       0    ⋯ 0          0     0      0     0  \n",
       "A1A2P71PUVYY1X.txt 0         0       0    ⋯ 0          0     0      0     0  \n",
       "A1A2YTFX2XC4O2.txt 0         0       0    ⋯ 0          0     0      0     0  \n",
       "A1A3HEK06QW97H.txt 0         0       0    ⋯ 0          0     0      0     0  \n",
       "A1A41X6NMG2RM4.txt 0         0       0    ⋯ 0          0     0      0     0  \n",
       "A1A692B4XLFOLL.txt 0         0       0    ⋯ 0          0     0      0     0  \n",
       "                   yuldar yuppie zero zinger zipped\n",
       "A1A01HFSCMCF7Q.txt 0      0      0    0      0     \n",
       "A1A0GOEYT9G6EA.txt 0      0      0    0      0     \n",
       "A1A0J4COEW6HLG.txt 0      0      0    0      0     \n",
       "A1A0S7SOGWO9SU.txt 0      0      0    0      0     \n",
       "A1A2H5FEDJO6WK.txt 0      0      0    0      0     \n",
       "A1A2P71PUVYY1X.txt 0      0      0    0      0     \n",
       "A1A2YTFX2XC4O2.txt 0      0      0    0      0     \n",
       "A1A3HEK06QW97H.txt 0      0      0    0      0     \n",
       "A1A41X6NMG2RM4.txt 0      0      0    0      0     \n",
       "A1A692B4XLFOLL.txt 0      0      0    0      0     "
      ]
     },
     "metadata": {},
     "output_type": "display_data"
    }
   ],
   "source": [
    "head(test.dtm,10)"
   ]
  },
  {
   "cell_type": "code",
   "execution_count": 8,
   "metadata": {},
   "outputs": [],
   "source": [
    "# Step 4. Make test and train matrices of identical length (find intersection)\n",
    "train.df <- data.frame(train.dtm[,intersect(colnames(train.dtm), colnames(test.dtm))])\n",
    "test.df <- data.frame(test.dtm[,intersect(colnames(test.dtm), colnames(train.dtm))])"
   ]
  },
  {
   "cell_type": "code",
   "execution_count": 9,
   "metadata": {},
   "outputs": [
    {
     "data": {
      "text/html": [
       "<table>\n",
       "<thead><tr><th></th><th scope=col>a</th><th scope=col>abandon</th><th scope=col>abandoned</th><th scope=col>ability</th><th scope=col>able</th><th scope=col>abound</th><th scope=col>about</th><th scope=col>above</th><th scope=col>abruptly</th><th scope=col>absolute</th><th scope=col>⋯</th><th scope=col>youd</th><th scope=col>youll</th><th scope=col>young</th><th scope=col>younger</th><th scope=col>your</th><th scope=col>youre</th><th scope=col>yourself</th><th scope=col>youth</th><th scope=col>youve</th><th scope=col>zero</th></tr></thead>\n",
       "<tbody>\n",
       "\t<tr><th scope=row>Neg_1.0_A100NXYDA6HSKA.txt</th><td> 0</td><td>0 </td><td>0 </td><td>0 </td><td>1 </td><td>0 </td><td>0 </td><td>0 </td><td>0 </td><td>0 </td><td>⋯ </td><td>0 </td><td>0 </td><td>0 </td><td>0 </td><td>0 </td><td>0 </td><td>0 </td><td>0 </td><td>0 </td><td>0 </td></tr>\n",
       "\t<tr><th scope=row>Neg_1.0_A106CGPJUBDG0P.txt</th><td> 1</td><td>0 </td><td>0 </td><td>0 </td><td>0 </td><td>0 </td><td>0 </td><td>0 </td><td>0 </td><td>0 </td><td>⋯ </td><td>0 </td><td>0 </td><td>0 </td><td>0 </td><td>0 </td><td>0 </td><td>0 </td><td>0 </td><td>0 </td><td>0 </td></tr>\n",
       "\t<tr><th scope=row>Neg_1.0_A10KECJUJOBO9H.txt</th><td> 4</td><td>0 </td><td>0 </td><td>0 </td><td>0 </td><td>0 </td><td>4 </td><td>0 </td><td>0 </td><td>0 </td><td>⋯ </td><td>0 </td><td>0 </td><td>0 </td><td>0 </td><td>0 </td><td>0 </td><td>0 </td><td>0 </td><td>0 </td><td>0 </td></tr>\n",
       "\t<tr><th scope=row>Neg_1.0_A10VGXGJD9JMOC.txt</th><td> 8</td><td>0 </td><td>0 </td><td>0 </td><td>0 </td><td>0 </td><td>1 </td><td>0 </td><td>0 </td><td>0 </td><td>⋯ </td><td>0 </td><td>0 </td><td>0 </td><td>0 </td><td>0 </td><td>0 </td><td>0 </td><td>0 </td><td>0 </td><td>0 </td></tr>\n",
       "\t<tr><th scope=row>Neg_1.0_A11423AYVMMC4K.txt</th><td>19</td><td>1 </td><td>0 </td><td>0 </td><td>0 </td><td>0 </td><td>6 </td><td>0 </td><td>0 </td><td>0 </td><td>⋯ </td><td>0 </td><td>0 </td><td>0 </td><td>0 </td><td>0 </td><td>0 </td><td>0 </td><td>0 </td><td>0 </td><td>0 </td></tr>\n",
       "\t<tr><th scope=row>Neg_1.0_A11DMJCWJP9FWM.txt</th><td> 2</td><td>0 </td><td>0 </td><td>0 </td><td>0 </td><td>0 </td><td>1 </td><td>0 </td><td>0 </td><td>0 </td><td>⋯ </td><td>0 </td><td>0 </td><td>0 </td><td>0 </td><td>0 </td><td>0 </td><td>0 </td><td>0 </td><td>0 </td><td>0 </td></tr>\n",
       "</tbody>\n",
       "</table>\n"
      ],
      "text/latex": [
       "\\begin{tabular}{r|lllllllllllllllllllllllllllllllllllllllllllllllllllllllllllllllllllllllllllllllllllllllllllllllllllllllllllllllllllllllllllllllllllllllllllllllllllllllllllllllllllllllllllllllllllllllllllllllllllllllllllllllllllllllllllllllllllllllllllllllllllllllllllllllllllllllllllllllllllllllllllllllllllllllllllllllllllllllllllllllllllllllllllllllllllllllllllllllllllllllllllllllllllllllllllllllllllllllllllllllllllllllllllllllllllllllllllllllllllllllllllllllllllllllllllllllllllllllllllllllllllllllllllllllllllllllllllllllllllllllllllllllllllllllllllllllllllllllllllllllllllllllllllllllllllllllllllllllllllllllllllllllllllllllllllllllllllllllllllllllllllllllllllllllllllllllllllllllllllllllllllllllllllllllllllllllllllllllllllllllllllllllllllllllllllllllllllllllllllllllllllllllllllllllllllllllllllllllllllllllllllllllllllllllllllllllllllllllllllllllllllllllllllllllllllllllllllllllllllllllllllllllllllllllllllllllllllllllllllllllllllllllllllllllllllllllllllllllllllllllllllllllllllllllllllllllllllllllllllllllllllllllllllllllllllllllllllllllllllllllllllllllllllllllllllllllllllllllllllllllllllllllllllllllllllllllllllllllllllllllllllllllllllllllllllllllllllllllllllllllllllllllllllllllllllllllllllllllllllllllllllllllllllllllllllllllllllllllllllllllllllllllllllllllllllllllllllllllllllllllllllllllllllllllllllllllllllllllllllllllllllllllllllllllllllllllllllllllllllllllllllllllllllllllllllllllllllllllllllllllllllllllllllllllllllllllllllllllllllllllllllllllllllllllllllllllllllllllllllllllllllllllllllllllllllllllllllllllllllllllllllllllllllllllllllllllllllllllllllllllllllllllllllllllllllllllllllllllllllllllllllllllllllllllllllllllllllllllllllllllllllllllllllllllllllllllllllllllllllllllllllllllllllllllllllllllllllllllllllllllllllllllllllllllllllllllllllllllllllllllllllllllllllllllllllllllllllllllllllllllllllllllllllllllllllllllllllllllllllllllllllllllllllllllllllllllllllllllllllllllllllllllllllllllllllllllllllllllllllllllllllllllllllllllllllllllllllllllllllllllllllllllllllllllllllllllllllllllllllllllllllllllllllllllllllllllllllllllllllllllllllllllllllllllllllllllllllllllllllllllllllllllllllllllllllllllllllllllllllllllllllllllllllllllllllllllllllllllllllllllllllllllllllllllllllllllllllllllllllllllllllllllllllllllllllllllllllllllllllllllllllllllllllllllllllllllllllllllllllllllllllllllllllllllllllllllllllllllllllllllllllllllllllllllllllllllllllllllllllllllllllllllllllllllllllllllllllllllllllllllllllllllllllllllllllllllllllllllllllllllllllllllllllllllllllllllllllllllllllllllllllllllllllllllllllllllllllllllllllllllllllllllllllllllllllllllllllllllllllllllllllllllllllllllllllllllllllllllllllllllllllllllllllllllllllllllllllllllllllllllllllllllllllllllllllllllllllllllllllllllllllllllllllllllllllllllllllllllllllllllllllllllllllllllllllllllllllllllllllllllllllllllllllllllllllllllllllllllllllllllllllllllllllllllllllllllllllllllllllllllllllllllllllllllllllllllllllllllllllllllllllllllllllllllllllllllllllllllllllllllllllllllllllllllllllllllllllllllllllllllllllllllllllllllllllllllllllllllllllllllllllllllllllllllllllllllllllllllllllllllllllllllllllllllllllllllllllllllllllllllllllllllllllllllllllllllllllllllllllllllllllllllllllllllllllllllllllllllllllllllllllllllllllllllllllllllllllllllllllllllllllllllllllllllllllllllllllllllllllllllllllllllllllllllllllllllllllllllllllllllllllllllllllllllllllllllllllllllllllllllllllllllllllllllllllllllllllllllllllllllllllllllllllllllllllllllllllllllllllllllllllllllllllllllllllllllllllllllllllllllllllllllllllllllllllllllllllllllllllllllllllllllllllllllllllllllllllllllllllllllllllllllllllllllllllllllllllllllllllllllllllllllllllllllllllllllllllllllllllllllllllllllllllllllllllllllllllllllllllllllllllllllllllllllllllllllllllllllllllllllllllllllllllllllllllllllllllllllllllllllllllllllllllllllllllllllllllllllllllllllllllllllllllllllllllllllllllllllllllllllllllllllllllllllllllllllllllllllllllllllllllllllllllllllllllllllllllllllllllllllllllllllllllllllllllllllllllllllllllllllllllllllllllllllllllllllllllllllllllllllllllllllllllllllllllllllllllllllllllllllllllllllllllllllllllllllllllllllllllllllllllllllllllllllllllllllllllllllllllllllllllllllllllllllllllllllllllllllllllllllllllllllllllllllllllllllllllllllllllllllllllllllllllllllllllllllllllllllllllllllllllllllllllllllllllllllllllllllllllllllllllllllllllllllllllllllllllllllllllllllllllllllllllllllllllllllllllllllllllllllllllllllllllllllllllllllllllllllllllllllllllllllllllllllllllllllllllllllllllllllllllllllllllllllllllllllllllllllllllllllllllllllllllllllllllllllllllllllllllllllllllllllllllllllllllllllllllllllllllllllllllllllllllllllllllllllllllllllllllllllllllllllllllllllllllllllllllllllllllllllllllllllllllllllllllllllllllllllllllllllllllllllllllllllllllllllllllllllllllllllllllllllllllllllllllllllllllllllllllllllllllllllllllllllllllllllllllllllllllllllllllllllllllllllllllllllllllllllllllllllllllllllllllllllllllllllllllllllllllllllllllllllllllllllllllllllllllllllllllllllllllllllllllllllllllllllllllllllllllllllllllllllllllllllllllllllllllllllllllllllllllllllllllllllllllllllllllllllllllllllllllllllllllllllllllllllllllllllllllllllllllllllllllllllllllllllllllllllllllllllllllllllllllllllllllllllllllllllllllllllllllllllll}\n",
       "  & a & abandon & abandoned & ability & able & abound & about & above & abruptly & absolute & ⋯ & youd & youll & young & younger & your & youre & yourself & youth & youve & zero\\\\\n",
       "\\hline\n",
       "\tNeg\\_1.0\\_A100NXYDA6HSKA.txt &  0 & 0  & 0  & 0  & 1  & 0  & 0  & 0  & 0  & 0  & ⋯  & 0  & 0  & 0  & 0  & 0  & 0  & 0  & 0  & 0  & 0 \\\\\n",
       "\tNeg\\_1.0\\_A106CGPJUBDG0P.txt &  1 & 0  & 0  & 0  & 0  & 0  & 0  & 0  & 0  & 0  & ⋯  & 0  & 0  & 0  & 0  & 0  & 0  & 0  & 0  & 0  & 0 \\\\\n",
       "\tNeg\\_1.0\\_A10KECJUJOBO9H.txt &  4 & 0  & 0  & 0  & 0  & 0  & 4  & 0  & 0  & 0  & ⋯  & 0  & 0  & 0  & 0  & 0  & 0  & 0  & 0  & 0  & 0 \\\\\n",
       "\tNeg\\_1.0\\_A10VGXGJD9JMOC.txt &  8 & 0  & 0  & 0  & 0  & 0  & 1  & 0  & 0  & 0  & ⋯  & 0  & 0  & 0  & 0  & 0  & 0  & 0  & 0  & 0  & 0 \\\\\n",
       "\tNeg\\_1.0\\_A11423AYVMMC4K.txt & 19 & 1  & 0  & 0  & 0  & 0  & 6  & 0  & 0  & 0  & ⋯  & 0  & 0  & 0  & 0  & 0  & 0  & 0  & 0  & 0  & 0 \\\\\n",
       "\tNeg\\_1.0\\_A11DMJCWJP9FWM.txt &  2 & 0  & 0  & 0  & 0  & 0  & 1  & 0  & 0  & 0  & ⋯  & 0  & 0  & 0  & 0  & 0  & 0  & 0  & 0  & 0  & 0 \\\\\n",
       "\\end{tabular}\n"
      ],
      "text/markdown": [
       "\n",
       "| <!--/--> | a | abandon | abandoned | ability | able | abound | about | above | abruptly | absolute | ⋯ | youd | youll | young | younger | your | youre | yourself | youth | youve | zero | \n",
       "|---|---|---|---|---|---|\n",
       "| Neg_1.0_A100NXYDA6HSKA.txt |  0 | 0  | 0  | 0  | 1  | 0  | 0  | 0  | 0  | 0  | ⋯  | 0  | 0  | 0  | 0  | 0  | 0  | 0  | 0  | 0  | 0  | \n",
       "| Neg_1.0_A106CGPJUBDG0P.txt |  1 | 0  | 0  | 0  | 0  | 0  | 0  | 0  | 0  | 0  | ⋯  | 0  | 0  | 0  | 0  | 0  | 0  | 0  | 0  | 0  | 0  | \n",
       "| Neg_1.0_A10KECJUJOBO9H.txt |  4 | 0  | 0  | 0  | 0  | 0  | 4  | 0  | 0  | 0  | ⋯  | 0  | 0  | 0  | 0  | 0  | 0  | 0  | 0  | 0  | 0  | \n",
       "| Neg_1.0_A10VGXGJD9JMOC.txt |  8 | 0  | 0  | 0  | 0  | 0  | 1  | 0  | 0  | 0  | ⋯  | 0  | 0  | 0  | 0  | 0  | 0  | 0  | 0  | 0  | 0  | \n",
       "| Neg_1.0_A11423AYVMMC4K.txt | 19 | 1  | 0  | 0  | 0  | 0  | 6  | 0  | 0  | 0  | ⋯  | 0  | 0  | 0  | 0  | 0  | 0  | 0  | 0  | 0  | 0  | \n",
       "| Neg_1.0_A11DMJCWJP9FWM.txt |  2 | 0  | 0  | 0  | 0  | 0  | 1  | 0  | 0  | 0  | ⋯  | 0  | 0  | 0  | 0  | 0  | 0  | 0  | 0  | 0  | 0  | \n",
       "\n",
       "\n"
      ],
      "text/plain": [
       "                           a  abandon abandoned ability able abound about above\n",
       "Neg_1.0_A100NXYDA6HSKA.txt  0 0       0         0       1    0      0     0    \n",
       "Neg_1.0_A106CGPJUBDG0P.txt  1 0       0         0       0    0      0     0    \n",
       "Neg_1.0_A10KECJUJOBO9H.txt  4 0       0         0       0    0      4     0    \n",
       "Neg_1.0_A10VGXGJD9JMOC.txt  8 0       0         0       0    0      1     0    \n",
       "Neg_1.0_A11423AYVMMC4K.txt 19 1       0         0       0    0      6     0    \n",
       "Neg_1.0_A11DMJCWJP9FWM.txt  2 0       0         0       0    0      1     0    \n",
       "                           abruptly absolute ⋯ youd youll young younger your\n",
       "Neg_1.0_A100NXYDA6HSKA.txt 0        0        ⋯ 0    0     0     0       0   \n",
       "Neg_1.0_A106CGPJUBDG0P.txt 0        0        ⋯ 0    0     0     0       0   \n",
       "Neg_1.0_A10KECJUJOBO9H.txt 0        0        ⋯ 0    0     0     0       0   \n",
       "Neg_1.0_A10VGXGJD9JMOC.txt 0        0        ⋯ 0    0     0     0       0   \n",
       "Neg_1.0_A11423AYVMMC4K.txt 0        0        ⋯ 0    0     0     0       0   \n",
       "Neg_1.0_A11DMJCWJP9FWM.txt 0        0        ⋯ 0    0     0     0       0   \n",
       "                           youre yourself youth youve zero\n",
       "Neg_1.0_A100NXYDA6HSKA.txt 0     0        0     0     0   \n",
       "Neg_1.0_A106CGPJUBDG0P.txt 0     0        0     0     0   \n",
       "Neg_1.0_A10KECJUJOBO9H.txt 0     0        0     0     0   \n",
       "Neg_1.0_A10VGXGJD9JMOC.txt 0     0        0     0     0   \n",
       "Neg_1.0_A11423AYVMMC4K.txt 0     0        0     0     0   \n",
       "Neg_1.0_A11DMJCWJP9FWM.txt 0     0        0     0     0   "
      ]
     },
     "metadata": {},
     "output_type": "display_data"
    },
    {
     "data": {
      "text/html": [
       "<table>\n",
       "<thead><tr><th></th><th scope=col>a</th><th scope=col>abandon</th><th scope=col>abandoned</th><th scope=col>ability</th><th scope=col>able</th><th scope=col>abound</th><th scope=col>about</th><th scope=col>above</th><th scope=col>abruptly</th><th scope=col>absolute</th><th scope=col>⋯</th><th scope=col>youd</th><th scope=col>youll</th><th scope=col>young</th><th scope=col>younger</th><th scope=col>your</th><th scope=col>youre</th><th scope=col>yourself</th><th scope=col>youth</th><th scope=col>youve</th><th scope=col>zero</th></tr></thead>\n",
       "<tbody>\n",
       "\t<tr><th scope=row>A1A01HFSCMCF7Q.txt</th><td>1</td><td>0</td><td>0</td><td>0</td><td>0</td><td>0</td><td>0</td><td>0</td><td>0</td><td>0</td><td>⋯</td><td>0</td><td>0</td><td>0</td><td>0</td><td>1</td><td>0</td><td>0</td><td>0</td><td>0</td><td>0</td></tr>\n",
       "\t<tr><th scope=row>A1A0GOEYT9G6EA.txt</th><td>2</td><td>0</td><td>0</td><td>1</td><td>0</td><td>0</td><td>0</td><td>0</td><td>0</td><td>0</td><td>⋯</td><td>0</td><td>0</td><td>0</td><td>0</td><td>0</td><td>0</td><td>0</td><td>0</td><td>0</td><td>0</td></tr>\n",
       "\t<tr><th scope=row>A1A0J4COEW6HLG.txt</th><td>2</td><td>0</td><td>0</td><td>0</td><td>0</td><td>0</td><td>0</td><td>0</td><td>0</td><td>0</td><td>⋯</td><td>0</td><td>0</td><td>0</td><td>0</td><td>0</td><td>0</td><td>0</td><td>0</td><td>0</td><td>0</td></tr>\n",
       "\t<tr><th scope=row>A1A0S7SOGWO9SU.txt</th><td>9</td><td>0</td><td>0</td><td>0</td><td>0</td><td>0</td><td>2</td><td>0</td><td>0</td><td>0</td><td>⋯</td><td>0</td><td>0</td><td>0</td><td>0</td><td>0</td><td>0</td><td>0</td><td>0</td><td>0</td><td>0</td></tr>\n",
       "\t<tr><th scope=row>A1A2H5FEDJO6WK.txt</th><td>2</td><td>0</td><td>0</td><td>0</td><td>0</td><td>0</td><td>0</td><td>0</td><td>0</td><td>0</td><td>⋯</td><td>0</td><td>0</td><td>0</td><td>0</td><td>0</td><td>0</td><td>0</td><td>0</td><td>0</td><td>0</td></tr>\n",
       "\t<tr><th scope=row>A1A2P71PUVYY1X.txt</th><td>1</td><td>0</td><td>0</td><td>0</td><td>0</td><td>0</td><td>0</td><td>0</td><td>0</td><td>0</td><td>⋯</td><td>0</td><td>0</td><td>0</td><td>0</td><td>0</td><td>0</td><td>0</td><td>0</td><td>0</td><td>0</td></tr>\n",
       "</tbody>\n",
       "</table>\n"
      ],
      "text/latex": [
       "\\begin{tabular}{r|lllllllllllllllllllllllllllllllllllllllllllllllllllllllllllllllllllllllllllllllllllllllllllllllllllllllllllllllllllllllllllllllllllllllllllllllllllllllllllllllllllllllllllllllllllllllllllllllllllllllllllllllllllllllllllllllllllllllllllllllllllllllllllllllllllllllllllllllllllllllllllllllllllllllllllllllllllllllllllllllllllllllllllllllllllllllllllllllllllllllllllllllllllllllllllllllllllllllllllllllllllllllllllllllllllllllllllllllllllllllllllllllllllllllllllllllllllllllllllllllllllllllllllllllllllllllllllllllllllllllllllllllllllllllllllllllllllllllllllllllllllllllllllllllllllllllllllllllllllllllllllllllllllllllllllllllllllllllllllllllllllllllllllllllllllllllllllllllllllllllllllllllllllllllllllllllllllllllllllllllllllllllllllllllllllllllllllllllllllllllllllllllllllllllllllllllllllllllllllllllllllllllllllllllllllllllllllllllllllllllllllllllllllllllllllllllllllllllllllllllllllllllllllllllllllllllllllllllllllllllllllllllllllllllllllllllllllllllllllllllllllllllllllllllllllllllllllllllllllllllllllllllllllllllllllllllllllllllllllllllllllllllllllllllllllllllllllllllllllllllllllllllllllllllllllllllllllllllllllllllllllllllllllllllllllllllllllllllllllllllllllllllllllllllllllllllllllllllllllllllllllllllllllllllllllllllllllllllllllllllllllllllllllllllllllllllllllllllllllllllllllllllllllllllllllllllllllllllllllllllllllllllllllllllllllllllllllllllllllllllllllllllllllllllllllllllllllllllllllllllllllllllllllllllllllllllllllllllllllllllllllllllllllllllllllllllllllllllllllllllllllllllllllllllllllllllllllllllllllllllllllllllllllllllllllllllllllllllllllllllllllllllllllllllllllllllllllllllllllllllllllllllllllllllllllllllllllllllllllllllllllllllllllllllllllllllllllllllllllllllllllllllllllllllllllllllllllllllllllllllllllllllllllllllllllllllllllllllllllllllllllllllllllllllllllllllllllllllllllllllllllllllllllllllllllllllllllllllllllllllllllllllllllllllllllllllllllllllllllllllllllllllllllllllllllllllllllllllllllllllllllllllllllllllllllllllllllllllllllllllllllllllllllllllllllllllllllllllllllllllllllllllllllllllllllllllllllllllllllllllllllllllllllllllllllllllllllllllllllllllllllllllllllllllllllllllllllllllllllllllllllllllllllllllllllllllllllllllllllllllllllllllllllllllllllllllllllllllllllllllllllllllllllllllllllllllllllllllllllllllllllllllllllllllllllllllllllllllllllllllllllllllllllllllllllllllllllllllllllllllllllllllllllllllllllllllllllllllllllllllllllllllllllllllllllllllllllllllllllllllllllllllllllllllllllllllllllllllllllllllllllllllllllllllllllllllllllllllllllllllllllllllllllllllllllllllllllllllllllllllllllllllllllllllllllllllllllllllllllllllllllllllllllllllllllllllllllllllllllllllllllllllllllllllllllllllllllllllllllllllllllllllllllllllllllllllllllllllllllllllllllllllllllllllllllllllllllllllllllllllllllllllllllllllllllllllllllllllllllllllllllllllllllllllllllllllllllllllllllllllllllllllllllllllllllllllllllllllllllllllllllllllllllllllllllllllllllllllllllllllllllllllllllllllllllllllllllllllllllllllllllllllllllllllllllllllllllllllllllllllllllllllllllllllllllllllllllllllllllllllllllllllllllllllllllllllllllllllllllllllllllllllllllllllllllllllllllllllllllllllllllllllllllllllllllllllllllllllllllllllllllllllllllllllllllllllllllllllllllllllllllllllllllllllllllllllllllllllllllllllllllllllllllllllllllllllllllllllllllllllllllllllllllllllllllllllllllllllllllllllllllllllllllllllllllllllllllllllllllllllllllllllllllllllllllllllllllllllllllllllllllllllllllllllllllllllllllllllllllllllllllllllllllllllllllllllllllllllllllllllllllllllllllllllllllllllllllllllllllllllllllllllllllllllllllllllllllllllllllllllllllllllllllllllllllllllllllllllllllllllllllllllllllllllllllllllllllllllllllllllllllllllllllllllllllllllllllllllllllllllllllllllllllllllllllllllllllllllllllllllllllllllllllllllllllllllllllllllllllllllllllllllllllllllllllllllllllllllllllllllllllllllllllllllllllllllllllllllllllllllllllllllllllllllllllllllllllllllllllllllllllllllllllllllllllllllllllllllllllllllllllllllllllllllllllllllllllllllllllllllllllllllllllllllllllllllllllllllllllllllllllllllllllllllllllllllllllllllllllllllllllllllllllllllllllllllllllllllllllllllllllllllllllllllllllllllllllllllllllllllllllllllllllllllllllllllllllllllllllllllllllllllllllllllllllllllllllllllllllllllllllllllllllllllllllllllllllllllllllllllllllllllllllllllllllllllllllllllllllllllllllllllllllllllllllllllllllllllllllllllllllllllllllllllllllllllllllllllllllllllllllllllllllllllllllllllllllllllllllllllllllllllllllllllllllllllllllllllllllllllllllllllllllllllllllllllllllllllllllllllllllllllllllllllllllllllllllllllllllllllllllllllllllllllllllllllllllllllllllllllllllllllllllllllllllllllllllllllllllllllllllllllllllllllllllllllllllllllllllllllllllllllllllllllllllllllllllllllllllllllllllllllllllllllllllllllllllllllllllllllllllllllllllllllllllllllllllllllllllllllllllllllllllllllllllllllllllllllllllllllllllllllllllllllllllllllllllllllllllllllllllllllllllllllllllllllllllllllllllllllllllllllllllllllllllllllllllllllllllllllllllllllllllllllllllllllllllllllllllllllllllllllllllllllllllllllllllllllllllllllllllllllllllllllllllllllllllllllllllllllllllllllllllllllllllllllllllllllllllllllllllllllllllllllllllllllllllllllllllllllllllllllllllllllllllllllllllllllllllllllllllllllll}\n",
       "  & a & abandon & abandoned & ability & able & abound & about & above & abruptly & absolute & ⋯ & youd & youll & young & younger & your & youre & yourself & youth & youve & zero\\\\\n",
       "\\hline\n",
       "\tA1A01HFSCMCF7Q.txt & 1 & 0 & 0 & 0 & 0 & 0 & 0 & 0 & 0 & 0 & ⋯ & 0 & 0 & 0 & 0 & 1 & 0 & 0 & 0 & 0 & 0\\\\\n",
       "\tA1A0GOEYT9G6EA.txt & 2 & 0 & 0 & 1 & 0 & 0 & 0 & 0 & 0 & 0 & ⋯ & 0 & 0 & 0 & 0 & 0 & 0 & 0 & 0 & 0 & 0\\\\\n",
       "\tA1A0J4COEW6HLG.txt & 2 & 0 & 0 & 0 & 0 & 0 & 0 & 0 & 0 & 0 & ⋯ & 0 & 0 & 0 & 0 & 0 & 0 & 0 & 0 & 0 & 0\\\\\n",
       "\tA1A0S7SOGWO9SU.txt & 9 & 0 & 0 & 0 & 0 & 0 & 2 & 0 & 0 & 0 & ⋯ & 0 & 0 & 0 & 0 & 0 & 0 & 0 & 0 & 0 & 0\\\\\n",
       "\tA1A2H5FEDJO6WK.txt & 2 & 0 & 0 & 0 & 0 & 0 & 0 & 0 & 0 & 0 & ⋯ & 0 & 0 & 0 & 0 & 0 & 0 & 0 & 0 & 0 & 0\\\\\n",
       "\tA1A2P71PUVYY1X.txt & 1 & 0 & 0 & 0 & 0 & 0 & 0 & 0 & 0 & 0 & ⋯ & 0 & 0 & 0 & 0 & 0 & 0 & 0 & 0 & 0 & 0\\\\\n",
       "\\end{tabular}\n"
      ],
      "text/markdown": [
       "\n",
       "| <!--/--> | a | abandon | abandoned | ability | able | abound | about | above | abruptly | absolute | ⋯ | youd | youll | young | younger | your | youre | yourself | youth | youve | zero | \n",
       "|---|---|---|---|---|---|\n",
       "| A1A01HFSCMCF7Q.txt | 1 | 0 | 0 | 0 | 0 | 0 | 0 | 0 | 0 | 0 | ⋯ | 0 | 0 | 0 | 0 | 1 | 0 | 0 | 0 | 0 | 0 | \n",
       "| A1A0GOEYT9G6EA.txt | 2 | 0 | 0 | 1 | 0 | 0 | 0 | 0 | 0 | 0 | ⋯ | 0 | 0 | 0 | 0 | 0 | 0 | 0 | 0 | 0 | 0 | \n",
       "| A1A0J4COEW6HLG.txt | 2 | 0 | 0 | 0 | 0 | 0 | 0 | 0 | 0 | 0 | ⋯ | 0 | 0 | 0 | 0 | 0 | 0 | 0 | 0 | 0 | 0 | \n",
       "| A1A0S7SOGWO9SU.txt | 9 | 0 | 0 | 0 | 0 | 0 | 2 | 0 | 0 | 0 | ⋯ | 0 | 0 | 0 | 0 | 0 | 0 | 0 | 0 | 0 | 0 | \n",
       "| A1A2H5FEDJO6WK.txt | 2 | 0 | 0 | 0 | 0 | 0 | 0 | 0 | 0 | 0 | ⋯ | 0 | 0 | 0 | 0 | 0 | 0 | 0 | 0 | 0 | 0 | \n",
       "| A1A2P71PUVYY1X.txt | 1 | 0 | 0 | 0 | 0 | 0 | 0 | 0 | 0 | 0 | ⋯ | 0 | 0 | 0 | 0 | 0 | 0 | 0 | 0 | 0 | 0 | \n",
       "\n",
       "\n"
      ],
      "text/plain": [
       "                   a abandon abandoned ability able abound about above abruptly\n",
       "A1A01HFSCMCF7Q.txt 1 0       0         0       0    0      0     0     0       \n",
       "A1A0GOEYT9G6EA.txt 2 0       0         1       0    0      0     0     0       \n",
       "A1A0J4COEW6HLG.txt 2 0       0         0       0    0      0     0     0       \n",
       "A1A0S7SOGWO9SU.txt 9 0       0         0       0    0      2     0     0       \n",
       "A1A2H5FEDJO6WK.txt 2 0       0         0       0    0      0     0     0       \n",
       "A1A2P71PUVYY1X.txt 1 0       0         0       0    0      0     0     0       \n",
       "                   absolute ⋯ youd youll young younger your youre yourself\n",
       "A1A01HFSCMCF7Q.txt 0        ⋯ 0    0     0     0       1    0     0       \n",
       "A1A0GOEYT9G6EA.txt 0        ⋯ 0    0     0     0       0    0     0       \n",
       "A1A0J4COEW6HLG.txt 0        ⋯ 0    0     0     0       0    0     0       \n",
       "A1A0S7SOGWO9SU.txt 0        ⋯ 0    0     0     0       0    0     0       \n",
       "A1A2H5FEDJO6WK.txt 0        ⋯ 0    0     0     0       0    0     0       \n",
       "A1A2P71PUVYY1X.txt 0        ⋯ 0    0     0     0       0    0     0       \n",
       "                   youth youve zero\n",
       "A1A01HFSCMCF7Q.txt 0     0     0   \n",
       "A1A0GOEYT9G6EA.txt 0     0     0   \n",
       "A1A0J4COEW6HLG.txt 0     0     0   \n",
       "A1A0S7SOGWO9SU.txt 0     0     0   \n",
       "A1A2H5FEDJO6WK.txt 0     0     0   \n",
       "A1A2P71PUVYY1X.txt 0     0     0   "
      ]
     },
     "metadata": {},
     "output_type": "display_data"
    }
   ],
   "source": [
    "head(train.df)\n",
    "head(test.df)"
   ]
  },
  {
   "cell_type": "code",
   "execution_count": 10,
   "metadata": {},
   "outputs": [],
   "source": [
    "# Step 5. Retrieve the correct labels for training data and put dummy values for testing data\n",
    "label.df <- data.frame(row.names(train.df))\n",
    "colnames(label.df) <- c(\"filenames\")\n",
    "label.df<- cSplit(label.df, 'filenames', sep=\"_\", type.convert=FALSE)\n",
    "train.df$corpus<- label.df$filenames_1\n",
    "test.df$corpus <- c(\"Neg\")"
   ]
  },
  {
   "cell_type": "code",
   "execution_count": 13,
   "metadata": {},
   "outputs": [],
   "source": [
    "# Step 6. Create folds of your data, then run the training once to inspect results\n",
    "df.train <- train.df\n",
    "df.test <- train.df\n",
    "df.model <- ksvm(corpus~., data= df.train, kernel=\"rbfdot\")\n",
    "df.pred <- predict(df.model, df.test)"
   ]
  },
  {
   "cell_type": "code",
   "execution_count": 29,
   "metadata": {},
   "outputs": [
    {
     "name": "stdout",
     "output_type": "stream",
     "text": [
      "Confusion Matrix and Statistics\n",
      "\n",
      "       \n",
      "df.pred Neg Pos\n",
      "    Neg 342   0\n",
      "    Pos  58 400\n",
      "                                          \n",
      "               Accuracy : 0.9275          \n",
      "                 95% CI : (0.9073, 0.9445)\n",
      "    No Information Rate : 0.5             \n",
      "    P-Value [Acc > NIR] : < 2.2e-16       \n",
      "                                          \n",
      "                  Kappa : 0.855           \n",
      " Mcnemar's Test P-Value : 7.184e-14       \n",
      "                                          \n",
      "            Sensitivity : 0.8550          \n",
      "            Specificity : 1.0000          \n",
      "         Pos Pred Value : 1.0000          \n",
      "         Neg Pred Value : 0.8734          \n",
      "             Prevalence : 0.5000          \n",
      "         Detection Rate : 0.4275          \n",
      "   Detection Prevalence : 0.4275          \n",
      "      Balanced Accuracy : 0.9275          \n",
      "                                          \n",
      "       'Positive' Class : Neg             \n",
      "                                          \n"
     ]
    }
   ],
   "source": [
    "con.matrix <- confusionMatrix(table(df.pred, df.test$corpus))\n",
    "print(con.matrix)"
   ]
  },
  {
   "cell_type": "code",
   "execution_count": 30,
   "metadata": {},
   "outputs": [
    {
     "name": "stdout",
     "output_type": "stream",
     "text": [
      "                   df.pred\n",
      "A1A01HFSCMCF7Q.txt     Pos\n",
      "A1A0GOEYT9G6EA.txt     Neg\n",
      "A1A0J4COEW6HLG.txt     Pos\n",
      "A1A0S7SOGWO9SU.txt     Neg\n",
      "A1A2H5FEDJO6WK.txt     Pos\n",
      "A1A2P71PUVYY1X.txt     Pos\n",
      "A1A2YTFX2XC4O2.txt     Neg\n",
      "A1A3HEK06QW97H.txt     Neg\n",
      "A1A41X6NMG2RM4.txt     Pos\n",
      "A1A692B4XLFOLL.txt     Neg\n",
      "A1A6OUI6YL5JV8.txt     Pos\n",
      "A1A7U9G3728LOU.txt     Neg\n",
      "A1A7VS5J7OR71D.txt     Neg\n",
      "A1A87TUBBDPMF0.txt     Neg\n",
      "A1A8ZX1Q5P8LOS.txt     Pos\n",
      "A1A9DO6G3BVAQO.txt     Pos\n",
      "A1A9LSWLC6OPA.txt      Neg\n",
      "A1A9Q7LFHQQH77.txt     Pos\n",
      "A1A9WXPQVE7D87.txt     Pos\n",
      "A1A9YLDRMBYBX1.txt     Pos\n",
      "A1AABZHT9FFQ20.txt     Pos\n",
      "A1AAX8VFARAUMA.txt     Neg\n",
      "A1AAXVBMX4MWVC.txt     Pos\n",
      "A1AB0IXS1IEPAQ.txt     Neg\n",
      "A1AB45O9U5Y8OQ.txt     Pos\n",
      "A1ACH062NFHDSD.txt     Neg\n",
      "A1ACUTCS5QI5R.txt      Neg\n",
      "A1AD0F5AOIAPJY.txt     Neg\n",
      "A1AD3BPYRZFEBY.txt     Pos\n",
      "A1AEDW75371P5M.txt     Neg\n",
      "A1AEHA3H1JQV8I.txt     Pos\n",
      "A1AEPM2EMG97H5.txt     Pos\n",
      "A1AEPOHPF5LWUX.txt     Neg\n",
      "A1AES697PC2IW5.txt     Neg\n",
      "A1AFK0UWCA2YFN.txt     Neg\n",
      "A1AG72UAITDRP6.txt     Neg\n",
      "A1AGE24S2Y71SI.txt     Neg\n",
      "A1AGFJ0L5COAXM.txt     Pos\n",
      "A1AHDOD9C25DXQ.txt     Neg\n",
      "A1AHFSQTN6IL0J.txt     Pos\n",
      "A1AHG76Y8S89BJ.txt     Neg\n",
      "A1AHS7TJME1OQN.txt     Neg\n",
      "A1AJVFE4QJLDIO.txt     Pos\n",
      "A1AJXOGM1RZE8O.txt     Pos\n",
      "A1AKKYXG0Y0ULL.txt     Pos\n",
      "A1AKOSC1VPQPJG.txt     Neg\n",
      "A1AKQMOH85TFGH.txt     Pos\n",
      "A1ALO93Z117X3W.txt     Pos\n",
      "A1ALOEZ4NXHUT.txt      Neg\n",
      "A1AM0LRBA8RIXM.txt     Neg\n",
      "A1AO6Z94NXJ9DN.txt     Pos\n",
      "A1AODHNC99PB49.txt     Pos\n",
      "A1AOF1DXVBW5S5.txt     Pos\n",
      "A1AOIKQ6JNWETI.txt     Neg\n",
      "A1AOYL9UL8P9LS.txt     Neg\n",
      "A1APAL2SMTQXG8.txt     Neg\n",
      "A1APGRXIVISHT4.txt     Pos\n",
      "A1APYTEEFX1AL3.txt     Pos\n",
      "A1ARA52HB238HT.txt     Neg\n",
      "A1ARHZTPIWG49I.txt     Neg\n",
      "A1ARJBC8VD5P8P.txt     Neg\n",
      "A1ASQ7139DYHE0.txt     Pos\n",
      "A1ASZ8MLOSI543.txt     Pos\n",
      "A1AT32KGOBPXIC.txt     Pos\n",
      "A1AT5567NCNZBP.txt     Pos\n",
      "A1ATOH29SXWRHZ.txt     Pos\n",
      "A1AUBGENRIZODO.txt     Neg\n",
      "A1AV32Q6I8M1LX.txt     Neg\n",
      "A1AVGG6Q879T6D.txt     Pos\n",
      "A1AVQECDS0W3G3.txt     Pos\n",
      "A1AVRL6UJRNLI9.txt     Pos\n",
      "A1AX9D8BVYW3F9.txt     Pos\n",
      "A1AXG78TNTPDA6.txt     Pos\n",
      "A1AXHNRDJEQ0B.txt      Pos\n",
      "A1AY4CGE5SNGR.txt      Neg\n",
      "A1AYJY5NBGHPEW.txt     Neg\n",
      "A1AYN3IIUNQCIA.txt     Neg\n",
      "A1AZ5FW80AYD4S.txt     Pos\n",
      "A1AZBNIPHX3PBB.txt     Pos\n",
      "A1AZMG5BMYGSS6.txt     Neg\n",
      "A1AZP7KHFYP7XI.txt     Pos\n",
      "A1AZTVCAQMNXXF.txt     Neg\n",
      "A1B0IHL4JZBPH5.txt     Pos\n",
      "A1B0NSF6IKMFEB.txt     Pos\n",
      "A1B0VTMN7QOOOM.txt     Pos\n",
      "A1B1FVI5AXS72U.txt     Neg\n",
      "A1B2DEIAKJN7BF.txt     Pos\n",
      "A1B3DICR3BQCZ0.txt     Pos\n",
      "A1B3E54RANCLS7.txt     Pos\n",
      "A1B3KDL07F1UT2.txt     Pos\n",
      "A1B3KM455HLAWP.txt     Neg\n",
      "A1B411XGBHPR87.txt     Neg\n",
      "A1B4HVO1TFN0EY.txt     Neg\n",
      "A1B4JREBSEG3LG.txt     Pos\n",
      "A1B4K8HNXEOU8A.txt     Pos\n",
      "A1B4PMJVY3Q38W.txt     Pos\n",
      "A1B5IRBWJCMY2T.txt     Pos\n",
      "A1B5OTPSX0FEI.txt      Neg\n",
      "A1B5TH55WSLSJT.txt     Pos\n",
      "A1B6ABJYQ1T1SJ.txt     Neg\n",
      "A1B8I077PB69XL.txt     Pos\n",
      "A1B8PMHANQDMVW.txt     Neg\n",
      "A1B8SMW0LS3IQU.txt     Pos\n",
      "A1B8ZIULQQP3OM.txt     Pos\n",
      "A1B9F8RI3XNWH1.txt     Neg\n",
      "A1B9XODPEB1RWX.txt     Pos\n",
      "A1BA72K4VK1UN1.txt     Neg\n",
      "A1BA95V76PRGVQ.txt     Neg\n",
      "A1BAFT4KF51D14.txt     Pos\n",
      "A1BAHT46HPEVH1.txt     Pos\n",
      "A1BB83EC6D7LTA.txt     Pos\n",
      "A1BCWR0SW4T4I.txt      Neg\n",
      "A1BDPRQ7BEUNLP.txt     Neg\n",
      "A1BENMANECTP2U.txt     Pos\n",
      "A1BERSZGNOGB7C.txt     Pos\n",
      "A1BGA5O77XO3S2.txt     Neg\n",
      "A1BHCE2409B5QF.txt     Neg\n",
      "A1BI8PUEHA5CHW.txt     Neg\n",
      "A1BIICNFWM8JWP.txt     Pos\n",
      "A1BJUMKKRLK9XX.txt     Neg\n",
      "A1BK7AEQACM8ZV.txt     Pos\n",
      "A1BKFLPCEUBZTJ.txt     Neg\n",
      "A1BKUIT87Z2LVZ.txt     Pos\n",
      "A1BL0FEQKAL8OM.txt     Pos\n",
      "A1BLVYSYH7R272.txt     Neg\n",
      "A1BMET3MONQ1WE.txt     Neg\n",
      "A1BNZVP7NR7PCR.txt     Pos\n",
      "A1BP5UOQG9BW2U.txt     Pos\n",
      "A1BQV0DZASL0AO.txt     Pos\n",
      "A1BRKP4II6WM2V.txt     Pos\n",
      "A1BS56VXC5NWC0.txt     Pos\n",
      "A1BVTF4162MMVO.txt     Neg\n",
      "A1BVY1XDY8KD5I.txt     Pos\n",
      "A1BWS8D8M4HJAL.txt     Neg\n",
      "A1BXA3SM3AJOKL.txt     Neg\n",
      "A1BXGZO9ZF111Q.txt     Pos\n",
      "A1BXK84SM9VRXQ.txt     Pos\n",
      "A1BYEJDPYP5CSE.txt     Neg\n",
      "A1BYX8ZYNGC6WH.txt     Pos\n",
      "A1BZOAM350RM6T.txt     Neg\n",
      "A1C02ZXLV8ZELB.txt     Pos\n",
      "A1C0GKK4J1A2OY.txt     Pos\n",
      "A1C0Q50HN5V3KQ.txt     Neg\n",
      "A1C1AGT0JC0X15.txt     Pos\n",
      "A1C1GS414W3UAV.txt     Neg\n",
      "A1C217T6VWIE3.txt      Neg\n",
      "A1C2IU05C0M30Y.txt     Neg\n",
      "A1C2RSVY11B3X3.txt     Neg\n",
      "A1C2X07NWPBOPO.txt     Pos\n",
      "A1C384NS531WXA.txt     Neg\n",
      "A1C3A4W6C45D6H.txt     Pos\n",
      "A1C4EUJUIXGU61.txt     Neg\n",
      "A1C58YXM2A30CY.txt     Neg\n",
      "A1C60M373Y63NH.txt     Neg\n",
      "A1C61F8U5QIQ9C.txt     Pos\n",
      "A1C8695238ZJGN.txt     Pos\n",
      "A1C8BMX766IK1U.txt     Neg\n",
      "A1C93AJ282RMLQ.txt     Pos\n",
      "A1C9BHKF30GZZJ.txt     Neg\n",
      "A1CBDDW79RPD8U.txt     Pos\n",
      "A1CCEOOK2M6BI0.txt     Pos\n",
      "A1CD1GEMGDUVBW.txt     Neg\n",
      "A1CDENNZT61W4G.txt     Pos\n",
      "A1CDJOZW2PL5U7.txt     Pos\n",
      "A1CDNTB7377YH2.txt     Pos\n",
      "A1CE2VHUJSCVK9.txt     Pos\n",
      "A1CE4SCG8ECHFK.txt     Pos\n",
      "A1CGA4U5TEEHAS.txt     Neg\n",
      "A1CGUP9ACXI6GB.txt     Pos\n",
      "A1CH57SX9B56AZ.txt     Pos\n",
      "A1CHM200OEN65X.txt     Neg\n",
      "A1CI39F420GRQU.txt     Neg\n",
      "A1CIHMY1QIA482.txt     Neg\n",
      "A1CIW2OEVAJRM2.txt     Neg\n",
      "A1CJ6JJD1AVRZK.txt     Neg\n",
      "A1CLCAJQXY7C6J.txt     Pos\n",
      "A1CLLXL8BDHV3D.txt     Neg\n",
      "A1CM9DM8R7ODFX.txt     Pos\n",
      "A1CMD08Z49PGKQ.txt     Neg\n",
      "A1CMMUTPP2L4VI.txt     Pos\n",
      "A1CMWPFDXA3Y2I.txt     Neg\n",
      "A1CNLU84K5ZIOZ.txt     Pos\n",
      "A1CNQTCRQ35IMM.txt     Neg\n",
      "A1CNUKRLHIVYP7.txt     Pos\n",
      "A1CO8STECR9G9F.txt     Neg\n",
      "A1CO9D010U9P2J.txt     Pos\n",
      "A1COVSXCOF6OY4.txt     Pos\n",
      "A1CP75N61T0ZYY.txt     Neg\n",
      "A1CPI102ITIAIN.txt     Neg\n",
      "A1CPJEZRLVKJOS.txt     Pos\n",
      "A1CPSCL93S0VS8.txt     Pos\n",
      "A1CQVKUW285QZF.txt     Neg\n",
      "A1CR3OQT9V8TIZ.txt     Neg\n",
      "A1CR8KTHI9S9I5.txt     Pos\n",
      "A1CSG6MW2BDZID.txt     Pos\n",
      "A1CT5IWKDB4RO0.txt     Neg\n",
      "A1CTIYWQYPBF26.txt     Pos\n",
      "A1CTXKA2C7BSC8.txt     Neg\n",
      "A1CUXSJJ4LP8SJ.txt     Pos\n",
      "A1CUY7W638LPYE.txt     Neg\n",
      "A1CUYJ1WDAMJST.txt     Pos\n",
      "A1CVEGNOQ62A25.txt     Neg\n",
      "A1CVIDV08CDR50.txt     Neg\n",
      "A1CXDNY2AARNYE.txt     Pos\n",
      "A1CXRRMXTRJATM.txt     Pos\n",
      "A1CYCM7MAIY2EJ.txt     Pos\n",
      "A1CYHEL581G9QK.txt     Pos\n",
      "A1CYM7V35VKFSH.txt     Pos\n",
      "A1CYRTQ04LYI55.txt     Neg\n",
      "A1CYXFNCMDZKJ.txt      Pos\n",
      "A1CZKB5CLECA0P.txt     Pos\n",
      "A1CZKYNEHG8CFZ.txt     Neg\n",
      "A1D2C0WDCSHUWZ.txt     Neg\n",
      "A1D36RZWTZM19O.txt     Pos\n",
      "A1D37DGPRLFGWU.txt     Pos\n",
      "A1D3OFO10RK6MV.txt     Neg\n",
      "A1D3QKGTNRC8HV.txt     Pos\n",
      "A1D3VNXA634RE5.txt     Pos\n",
      "A1D4FAFQNCEWNL.txt     Neg\n",
      "A1D4IZD9SJ56Q5.txt     Pos\n",
      "A1D577DFG1MLR9.txt     Pos\n",
      "A1D5RCOILPC9LX.txt     Neg\n",
      "A1D600X7EDGIVD.txt     Pos\n",
      "A1D6PWUMDY9F7V.txt     Pos\n",
      "A1D7N2QTUNHXZE.txt     Pos\n",
      "A1D7TRI8SJ95RT.txt     Neg\n",
      "A1D86AKVZDMWZX.txt     Pos\n",
      "A1D884EI80ZX9D.txt     Pos\n",
      "A1D9IOAA25TWVI.txt     Pos\n",
      "A1DA6E4FNRSAWN.txt     Neg\n",
      "A1DA7NY0WHJZKJ.txt     Pos\n",
      "A1DB5QPH7WO488.txt     Neg\n",
      "A1DBGXI1U93MM1.txt     Neg\n",
      "A1DBU0H8CIJNYW.txt     Pos\n",
      "A1DBY8Z8G9D5ZT.txt     Pos\n",
      "A1DC28MXBDDCA6.txt     Pos\n",
      "A1DECZ2YDZVNFW.txt     Pos\n",
      "A1DEJJ0WOWWC4K.txt     Pos\n",
      "A1DF2NQ4346X2C.txt     Pos\n",
      "A1DF8LC31WOT73.txt     Neg\n",
      "A1DFPCMGC47IX6.txt     Pos\n",
      "A1DGJOJ1D49YZ8.txt     Neg\n",
      "A1DGMZ9TFG5I4X.txt     Pos\n",
      "A1DHA0GWSWQRG0.txt     Neg\n",
      "A1DHVPFSI0DTY9.txt     Neg\n",
      "A1DI67ZSLU883A.txt     Neg\n",
      "A1DI9POOHWJTYA.txt     Neg\n",
      "A1DJMMJ4OQ2712.txt     Neg\n",
      "A1DJQTROA65VAP.txt     Neg\n",
      "A1DK7AQ0RSPXCJ.txt     Neg\n",
      "A1DKMAQDFN0UWA.txt     Pos\n",
      "A1DKPGE3QGPTGP.txt     Pos\n",
      "A1DL822FZZQA00.txt     Pos\n",
      "A1DL89B81V625B.txt     Pos\n",
      "A1DLVUJFANNU1Q.txt     Neg\n",
      "A1DMVWI0TLCKG5.txt     Neg\n",
      "A1DO2VW32RB1SW.txt     Pos\n",
      "A1DP1ZKYGXQ7Y5.txt     Neg\n",
      "A1DP8MEDDL5RQQ.txt     Neg\n",
      "A1DP9LKVRC89LM.txt     Pos\n",
      "A1DPB8O8WWELVB.txt     Pos\n",
      "A1DPP8TXDCHCDN.txt     Neg\n",
      "A1DQM6JCKG7VYF.txt     Neg\n",
      "A1DQZBHEU98PBT.txt     Neg\n",
      "A1DSES64WY3DGM.txt     Pos\n",
      "A1DSVQVFDF40N6.txt     Neg\n",
      "A1DT1X5SLS69JX.txt     Neg\n",
      "A1DT4L5CM4SM6M.txt     Pos\n",
      "A1DTSET17K9R0Z.txt     Pos\n",
      "A1DU1PKLXRNA7O.txt     Neg\n",
      "A1DU1YLBLBEY51.txt     Neg\n",
      "A1DUFLQ8R409OU.txt     Pos\n",
      "A1DUT82FWQHUPX.txt     Neg\n",
      "A1DV308Q1I97UZ.txt     Neg\n",
      "A1DVCFTQUD2Z69.txt     Pos\n",
      "A1DW24U3K62NY1.txt     Neg\n",
      "A1DW27OQ3QWGG3.txt     Pos\n",
      "A1DW4U1LQV0XW7.txt     Neg\n",
      "A1DW8GO3KW26DR.txt     Neg\n",
      "A1DW8MHL426MJA.txt     Neg\n",
      "A1DWD6QRRCFBRI.txt     Pos\n",
      "A1DX77Y17XHIQK.txt     Pos\n",
      "A1DXHYUXOZEVJZ.txt     Pos\n",
      "A1DXRH8ISC65HK.txt     Pos\n",
      "A1DYETE5K3WBL1.txt     Neg\n",
      "A1DYUXSAT9MUPJ.txt     Pos\n",
      "A1DYXCF4148PJT.txt     Pos\n",
      "A1DZKPU7E5R71E.txt     Pos\n",
      "A1E1LEVQ9VQNK.txt      Neg\n",
      "A1E2BFZOEAOHL6.txt     Pos\n",
      "A1E2EI93MJW6QK.txt     Neg\n",
      "A1E2NA2F4RTQ9B.txt     Pos\n",
      "A1E37DNGUC3GCI.txt     Neg\n",
      "A1E3NJG8JEJZ39.txt     Pos\n",
      "A1E4OY0JZ9M8.txt       Pos\n",
      "A1E5B2QDXYIFD6.txt     Neg\n",
      "A1E5ND2210PD2E.txt     Pos\n",
      "A1E5VODXQ71C0W.txt     Pos\n",
      "A1E5XXB9BFWT3T.txt     Pos\n",
      "A1E6OKQVSJ9XRT.txt     Neg\n",
      "A1E6QEFD3QCFBW.txt     Pos\n",
      "A1E7HPZMPJT8AF.txt     Pos\n",
      "A1E7LKEV1AWRBC.txt     Neg\n",
      "A1E8IJ1B8YPBLG.txt     Neg\n",
      "A1E99PC68SKZ33.txt     Pos\n",
      "A1EBXG35S4LXJ6.txt     Pos\n",
      "A1ED9BGBSY2DF9.txt     Pos\n",
      "A1EEDXQFKT5PEE.txt     Pos\n",
      "A1EEVWIHHOU0QG.txt     Neg\n",
      "A1EEW7AS30AK5Q.txt     Neg\n",
      "A1EFBLQG6XB271.txt     Pos\n",
      "A1EFKMVDARBPZ0.txt     Pos\n",
      "A1EFRQMO61TAT7.txt     Neg\n",
      "A1EG5MVX8KTAAD.txt     Neg\n",
      "A1EHZZ7BSFPER9.txt     Pos\n",
      "A1EIJL5413RFY0.txt     Pos\n",
      "A1EIWJBD31VCZQ.txt     Pos\n",
      "A1EKI1XB05YWOK.txt     Pos\n",
      "A1EKSBLRSDUE01.txt     Neg\n",
      "A1EKTLUL24HDG8.txt     Neg\n",
      "A1EKXQ5TAHL86S.txt     Pos\n",
      "A1EL30BER3300R.txt     Pos\n",
      "A1ELQWH2G9NY7C.txt     Neg\n",
      "A1ELR9MMN6SCXR.txt     Neg\n",
      "A1EMDSTJDUE6B0.txt     Neg\n",
      "A1EO0RTX85CZDC.txt     Pos\n",
      "A1EO8K1RRJJYH4.txt     Neg\n",
      "A1EOTA3MT11ITD.txt     Pos\n",
      "A1EOWCNA3XJWTI.txt     Neg\n",
      "A1EPPQNOOEHSS3.txt     Pos\n",
      "A1EQGFZPJ4V24X.txt     Pos\n",
      "A1EQKWGQXREYC5.txt     Neg\n",
      "A1EQW0SAORNLDZ.txt     Pos\n",
      "A1ER2YIHTMXBLG.txt     Neg\n",
      "A1ER5AYS3FQ9O3.txt     Neg\n",
      "A1ERDXS0QLEVKB.txt     Neg\n",
      "A1ES8ZUUFP5XD7.txt     Neg\n",
      "A1EST6J5HFN5J7.txt     Pos\n",
      "A1ESZNL5LPAJMG.txt     Neg\n",
      "A1ETQN0GCYJX8K.txt     Neg\n",
      "A1ETXFZTUFN50C.txt     Pos\n",
      "A1EUI6PCZC3BZG.txt     Pos\n",
      "A1EUVDHFMYNKO5.txt     Pos\n",
      "A1EVJSH6M2MH86.txt     Pos\n",
      "A1EVT922SA4UMS.txt     Neg\n",
      "A1EVZWQOT76M2R.txt     Pos\n",
      "A1EW0Q5W5270ZJ.txt     Pos\n",
      "A1EX5SK2PD0XLC.txt     Neg\n",
      "A1EX6EKXJ8UZ3O.txt     Neg\n",
      "A1EXCLR2V2W20O.txt     Neg\n",
      "A1EXVQTW39QBCJ.txt     Pos\n",
      "A1EYBUJ8UL50XZ.txt     Pos\n",
      "A1EYY7KK7BAJ59.txt     Pos\n",
      "A1F13RYZ519CRO.txt     Pos\n",
      "A1F1AKSXMDOZGI.txt     Pos\n",
      "A1F1LG7T6V8ZSN.txt     Pos\n",
      "A1F1XYMX769KWE.txt     Neg\n",
      "A1F33MXK5I2YVL.txt     Neg\n",
      "A1F35QPYG5DMTV.txt     Pos\n",
      "A1F38YS15PWMRQ.txt     Neg\n",
      "A1F3QIQPI275CF.txt     Pos\n",
      "A1F4Y3YC4OH56N.txt     Pos\n",
      "A1F5NVAVZ8WSZO.txt     Pos\n",
      "A1F5R62PZX2WZJ.txt     Neg\n",
      "A1F69M51057UUU.txt     Neg\n",
      "A1F6Q5Q0U6MS5X.txt     Neg\n",
      "A1F6WCDCUZKMVW.txt     Pos\n",
      "A1F6XDAQT0YY4Q.txt     Pos\n",
      "A1F7CMDX6QDJVA.txt     Neg\n",
      "A1F8APTGP4IG81.txt     Neg\n",
      "A1F8GH7CR68P59.txt     Neg\n",
      "A1F8YM4KHTZ7MP.txt     Pos\n",
      "A1FACJYZXYO0BB.txt     Pos\n",
      "A1FAD1XZZ0KK6M.txt     Neg\n",
      "A1FAF27BX3Z41.txt      Pos\n",
      "A1FAI4FFUN3C79.txt     Neg\n",
      "A1FB4C42H3GFKD.txt     Pos\n",
      "A1FD06BD0Y0SQV.txt     Pos\n",
      "A1FDAX0HE987RA.txt     Pos\n",
      "A1FDEWYELN43G1.txt     Neg\n",
      "A1FDX34BXFXNS8.txt     Neg\n",
      "A1FE7IV589TFYV.txt     Pos\n",
      "A1FEEFAK5Y45M2.txt     Neg\n",
      "A1FEIQEFQOYE54.txt     Neg\n",
      "A1FG91CM8221X1.txt     Neg\n",
      "A1FH9TBAO96PEW.txt     Neg\n",
      "A1FISP4B0114V3.txt     Neg\n",
      "A1FJQHXLFWP3GO.txt     Pos\n",
      "A1FKAYFBK51EXC.txt     Neg\n",
      "A1FKLSRSKUNNMT.txt     Neg\n",
      "A1FL7B5C3VWTLN.txt     Pos\n",
      "A1FLJCHN5CG5M5.txt     Pos\n",
      "A1FLRIP7UIKXQ2.txt     Pos\n",
      "A1FM6SI7SKGVCC.txt     Pos\n",
      "A1FMC5BF2XUIYQ.txt     Neg\n",
      "A1FMCXFMLW5FJR.txt     Pos\n",
      "A1FMJJKSVQDDQ.txt      Neg\n",
      "A1FN8Q6ON6VB5G.txt     Pos\n",
      "A1FNB0224S528L.txt     Neg\n",
      "A1FOB37S13VVC6.txt     Neg\n"
     ]
    }
   ],
   "source": [
    "# Step 7. Run the final prediction on the test data and re-attach file names.\n",
    "df.test <- test.df\n",
    "df.pred <- predict(df.model, df.test)\n",
    "results <- as.data.frame(df.pred)\n",
    "rownames(results) <- rownames(test.df)\n",
    "print(results)"
   ]
  }
 ],
 "metadata": {
  "kernelspec": {
   "display_name": "R",
   "language": "R",
   "name": "ir"
  },
  "language_info": {
   "codemirror_mode": "r",
   "file_extension": ".r",
   "mimetype": "text/x-r-source",
   "name": "R",
   "pygments_lexer": "r",
   "version": "3.4.1"
  }
 },
 "nbformat": 4,
 "nbformat_minor": 2
}
