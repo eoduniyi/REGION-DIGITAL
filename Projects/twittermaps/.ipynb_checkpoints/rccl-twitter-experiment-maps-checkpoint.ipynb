{
 "cells": [
  {
   "cell_type": "code",
   "execution_count": 6,
   "metadata": {},
   "outputs": [
    {
     "data": {
      "text/html": [
       "'C:/Users/Erick Oduniyi/Documents/Projects/Region/REGION-DIGITAL/Projects/twittermaps'"
      ],
      "text/latex": [
       "'C:/Users/Erick Oduniyi/Documents/Projects/Region/REGION-DIGITAL/Projects/twittermaps'"
      ],
      "text/markdown": [
       "'C:/Users/Erick Oduniyi/Documents/Projects/Region/REGION-DIGITAL/Projects/twittermaps'"
      ],
      "text/plain": [
       "[1] \"C:/Users/Erick Oduniyi/Documents/Projects/Region/REGION-DIGITAL/Projects/twittermaps\""
      ]
     },
     "metadata": {},
     "output_type": "display_data"
    },
    {
     "data": {
      "text/html": [
       "<ol class=list-inline>\n",
       "\t<li>'rccl-twitter-experiment-maps.ipynb'</li>\n",
       "\t<li>'Twitter-Testing-Copy1.ipynb'</li>\n",
       "\t<li>'Twitter-Testing.ipynb'</li>\n",
       "\t<li>'twitter.data'</li>\n",
       "\t<li>'twitter_testing_lab_meeting.ipynb'</li>\n",
       "\t<li>'twitterMaps.md'</li>\n",
       "</ol>\n"
      ],
      "text/latex": [
       "\\begin{enumerate*}\n",
       "\\item 'rccl-twitter-experiment-maps.ipynb'\n",
       "\\item 'Twitter-Testing-Copy1.ipynb'\n",
       "\\item 'Twitter-Testing.ipynb'\n",
       "\\item 'twitter.data'\n",
       "\\item 'twitter\\_testing\\_lab\\_meeting.ipynb'\n",
       "\\item 'twitterMaps.md'\n",
       "\\end{enumerate*}\n"
      ],
      "text/markdown": [
       "1. 'rccl-twitter-experiment-maps.ipynb'\n",
       "2. 'Twitter-Testing-Copy1.ipynb'\n",
       "3. 'Twitter-Testing.ipynb'\n",
       "4. 'twitter.data'\n",
       "5. 'twitter_testing_lab_meeting.ipynb'\n",
       "6. 'twitterMaps.md'\n",
       "\n",
       "\n"
      ],
      "text/plain": [
       "[1] \"rccl-twitter-experiment-maps.ipynb\" \"Twitter-Testing-Copy1.ipynb\"       \n",
       "[3] \"Twitter-Testing.ipynb\"              \"twitter.data\"                      \n",
       "[5] \"twitter_testing_lab_meeting.ipynb\"  \"twitterMaps.md\"                    "
      ]
     },
     "metadata": {},
     "output_type": "display_data"
    }
   ],
   "source": [
    "# Get the current working director\n",
    "getwd()\n",
    "\n",
    "# Check files in directory\n",
    "list.files()"
   ]
  },
  {
   "cell_type": "markdown",
   "metadata": {},
   "source": [
    "# Region Cultural Computation Laboratory\n",
    "\n",
    "<br></br>\n",
    "<div style=\"text-align: justify\">\n",
    "In addition to making the projects available on GitHub, we have created a [Google Classroom](https://en.wikipedia.org/wiki/Google_Classroom) for individuals and communities to interact with our Jupyter and Colab notebooks, and other region resources. At the moment, we call this classroom <b>Region Cultural Computation Laboratory</b> (RCCL), and it's a space where individuals can get resources for performing computational anthropology research as it's related to identity and migrant communities (i.e., data visualization and machine learning tools). If you'd like to join the region classroom please email Erick Oduniyi (eeoduniyi@gmail.com)\n",
    "</div>"
   ]
  },
  {
   "cell_type": "markdown",
   "metadata": {},
   "source": [
    "## RCCL 002: <i>region twitterMaps</i>  \n",
    "<i>By Erick Oduniyi</i>\n",
    "\n",
    "In this lab, we will be using the <b>R Programming Language</b>, and the <b>Twitter API</b> to search Twitter for regional keywords tweeted across the U.S"
   ]
  },
  {
   "cell_type": "markdown",
   "metadata": {},
   "source": [
    "## 1. Setting up Twitter API"
   ]
  },
  {
   "cell_type": "markdown",
   "metadata": {},
   "source": [
    "### 1.1: Installing Packages"
   ]
  },
  {
   "cell_type": "code",
   "execution_count": 16,
   "metadata": {},
   "outputs": [
    {
     "name": "stderr",
     "output_type": "stream",
     "text": [
      "Warning message:\n",
      "\"package 'ggplot2' is in use and will not be installed\"Warning message:\n",
      "\"package 'maps' is in use and will not be installed\"Warning message:\n",
      "\"package 'RCurl' is in use and will not be installed\""
     ]
    },
    {
     "name": "stdout",
     "output_type": "stream",
     "text": [
      "package 'ROAuth' successfully unpacked and MD5 sums checked\n",
      "\n",
      "The downloaded binary packages are in\n",
      "\tC:\\Users\\oduni\\AppData\\Local\\Temp\\RtmpmEfPnN\\downloaded_packages\n"
     ]
    },
    {
     "name": "stderr",
     "output_type": "stream",
     "text": [
      "Warning message:\n",
      "\"package 'streamR' is in use and will not be installed\"Warning message:\n",
      "\"package 'twitteR' is in use and will not be installed\""
     ]
    }
   ],
   "source": [
    "install.packages(\"ggplot2\")\n",
    "install.packages(\"maps\")\n",
    "install.packages(\"RCurl\")\n",
    "install.packages(\"ROAuth\")\n",
    "install.packages(\"streamR\")\n",
    "install.packages(\"twitteR\")"
   ]
  },
  {
   "cell_type": "markdown",
   "metadata": {},
   "source": [
    "### 1.2: Loading Packages"
   ]
  },
  {
   "cell_type": "code",
   "execution_count": 17,
   "metadata": {},
   "outputs": [],
   "source": [
    "library(\"ggplot2\")\n",
    "library(\"maps\")\n",
    "library(\"RCurl\")\n",
    "library(\"ROAuth\")\n",
    "library(\"twitteR\")\n",
    "library(\"streamR\")"
   ]
  },
  {
   "cell_type": "markdown",
   "metadata": {},
   "source": [
    "### 1.3: Setting up Twitter API keys and tokens"
   ]
  },
  {
   "cell_type": "code",
   "execution_count": 18,
   "metadata": {},
   "outputs": [],
   "source": [
    "# Setting up API keys and tokens (these comes from developer.twitter.com)\n",
    "consumerKey <- \"o82CIPB0SHTbn1vxJn2SUG0YJ\"\n",
    "consumerSecret <- \"xv7aYTCH9Ks05MHB0NujvYEyy1eNr2X2jyIjwilAwPZxzNEIuD\"\n",
    "accessToken <- \"1044689406874005504-BttOGUgC8iJeTwhGCRcWlJbaDSE9sV\"\n",
    "accessTokenSecret <- \"8xy7k4god2LpbjvabQs2wDcNgI1ICuyi6jF6mtccO41ka\"\n",
    "\n",
    "# Setting up Twitter connection\n",
    "my_oauth <- list(consumer_key = consumerKey, consumer_secret = consumerSecret, access_token = accessToken, access_token_secret = accessTokenSecret)"
   ]
  },
  {
   "cell_type": "markdown",
   "metadata": {},
   "source": [
    "## 2. Streaming from Twitter"
   ]
  },
  {
   "cell_type": "markdown",
   "metadata": {},
   "source": [
    "### 2.1: Collect tweets over the U.S"
   ]
  },
  {
   "cell_type": "code",
   "execution_count": 22,
   "metadata": {},
   "outputs": [
    {
     "name": "stderr",
     "output_type": "stream",
     "text": [
      "Capturing tweets...\n",
      "Connection to Twitter stream was closed after 0 seconds with up to 0 tweets downloaded.\n"
     ]
    }
   ],
   "source": [
    "# Collect tweets over the U.S:\n",
    "filterStream(file.name = './twitter.data/region_USA.json', # we can change formats\n",
    "             timeout = 600,  # we can add more time, 600?\n",
    "             #tweets = 10, # here we add a constrain by number of tweets\n",
    "             oauth = my_oauth, # authorization token, this one without handshake\n",
    "             location = c(-125, 25, -66, 50), # definition of bounding box, approximate US...is better to put more geo area to eliminate later\n",
    "             track = c(\"region\")) # track keywords in realtime"
   ]
  },
  {
   "cell_type": "code",
   "execution_count": null,
   "metadata": {},
   "outputs": [],
   "source": [
    "install.packages(\"ggplot2\")\n",
    "install.packages(\"maps\")\n",
    "\n",
    "library(ggplot2)\n",
    "library(maps)\n",
    "library(ROAuth)\n",
    "library(streamR)\n",
    "\n",
    "# # Twitter set up\n",
    "#\n",
    "# Setting up API keys and authenticated request:\n",
    "requestURL <- \"https://api.twitter.com/oauth/request_token\"\n",
    "accessURL <- \"https://api.twitter.com/oauth/access_token\"\n",
    "authURL <- \"https://api.twitter.com/oauth/authorize\"\n",
    "consumerKey <- \"yourConsumerKey\"\n",
    "consumerSecret <- \"yourConsumerSecret\"\n",
    "accessToken <- \"yourAccessToken\"\n",
    "accessTokenSecret <- \"yourAccessTokenSecret\"\n",
    "\n",
    "# Setting up Twitter connection without handshake\n",
    "my_oauth <- list(consumer_key = consumerKey, consumer_secret = consumerSecret, access_token = accessToken, access_token_secret = accessTokenSecret)\n",
    "\n",
    "\n",
    "# # Stream Twitter data from a specific location\n",
    "#\n",
    "# Collect tweets over the U.S:\n",
    "filterStream(file.name = 'measles_USA.json', # we can change formats\n",
    "             timeout = 60,  # we can add more time, 600?\n",
    "             #tweets = 10, # here we add a constrain by number of tweets\n",
    "             oauth = my_oauth, # authorization token, this one without handshake\n",
    "             location = c(-125, 25, -66, 50), # definition of bounding box, approximate US...is better to put more geo area to eliminate later\n",
    "             track = c(\"measles, #vaccinesfreedom, vaccines, consent\")) # track keywords in realtime\n",
    "\n",
    "\n",
    "# # Collect tweets from specific states - Chosen based on measles cases plots\n",
    "#\n",
    "# # Collect tweets over Arizona:\n",
    "# filterStream(file.name = 'measles_AZ.json',\n",
    "#              timeout = 60, oauth = my_oauth,\n",
    "#              location = c(-114.8,31.3,-109,37), # Arizona bounding box\n",
    "#              track = c(\"measles, #vaccinesfreedom, vaccines, consent\"))\n",
    "\n",
    "# # Collect tweets over California:\n",
    "# filterStream(file.name = 'measles_CA.json',\n",
    "#              timeout = 60, oauth = my_oauth,\n",
    "#              location = c(-124.5,32.5,-114.1,42), # California bounding box\n",
    "#              track = c(\"measles, #vaccinesfreedom, vaccines, consent\"))\n",
    "\n",
    "# # Collect tweets over Florida:\n",
    "# filterStream(file.name = 'measles_FL.json',\n",
    "#              timeout = 60, oauth = my_oauth,\n",
    "#              location = c(-87.6,24.4,-80,31), # Florida bounding box\n",
    "#              track = c(\"measles, #vaccinesfreedom, vaccines, consent\"))\n",
    "\n",
    "# # Collect tweets over Kansas:\n",
    "# # Note: Kansas was chosen because we live in Kansas...\n",
    "# filterStream(file.name = 'measles_KS.json',\n",
    "#              timeout = 60, oauth = my_oauth,\n",
    "#              location = c(-102,37,-94.5,40), # Kansas bounding box\n",
    "#              track = c(\"measles, #vaccinesfreedom, vaccines, consent\"))\n",
    "\n",
    "# # Collect tweets over Michigan:\n",
    "# filterStream(file.name = 'measles_MI.json',\n",
    "#              timeout = 60, oauth = my_oauth,\n",
    "#              location = c(-90.4,41.7,-82.1,48.3), # Michigan bounding box\n",
    "#              track = c(\"measles, #vaccinesfreedom, vaccines, consent\"))\n",
    "\n",
    "# # Collect tweets over New York:\n",
    "# filterStream(file.name = 'measles_NY.json',\n",
    "#              timeout = 60, oauth = my_oauth,\n",
    "#              location = c(-74.3,40.5,-73.7,41), # New York bounding box\n",
    "#              track = c(\"measles, #vaccinesfreedom, vaccines, consent\"))\n",
    "\n",
    "# # Collect tweets over New Jersey:\n",
    "# filterStream(file.name = 'measles_NJ.json',\n",
    "#              timeout = 60, oauth = my_oauth,\n",
    "#              location = c(-75.6,38.8,-73.9,41.4), # New Jersey bounding box\n",
    "#              track = c(\"measles, #vaccinesfreedom, vaccines, consent\"))\n",
    "\n",
    "# # Collect tweets over Ohio:\n",
    "# filterStream(file.name = 'measles_OH.json',\n",
    "#              timeout = 60, oauth = my_oauth,\n",
    "#              location = c(-84.8,38.4,-80.5,42.3), # Ohio bounding box\n",
    "#              track = c(\"measles, #vaccinesfreedom, vaccines, consent\"))\n",
    "\n",
    "# # Collect tweets over Tennessee:\n",
    "# filterStream(file.name = 'measles_TN.json',\n",
    "#              timeout = 60, oauth = my_oauth,\n",
    "#              location = c(-90.3,35,-81.6,36.7), # Tennessee bounding box\n",
    "#              track = c(\"measles, #vaccinesfreedom, vaccines, consent\"))\n",
    "\n",
    "# # Collect tweets over Texas:\n",
    "# filterStream(file.name = 'measles_TX.json',\n",
    "#              timeout = 60, oauth = my_oauth,\n",
    "#              location = c(-106.6,25.8,-93.5,36.5), # Texas bounding box\n",
    "#              track = c(\"measles, #vaccinesfreedom, vaccines, consent\"))\n",
    "\n",
    "# # Collect tweets over Washington:\n",
    "# filterStream(file.name = 'measles_WA.json',\n",
    "#              timeout = 60, oauth = my_oauth,\n",
    "#              location = c(-124.8,45.5,-117,49), # Washington bounding box\n",
    "#              track = c(\"measles, #vaccinesfreedom, vaccines, consent\"))\n",
    "\n",
    "# Parse tweets from over USA:\n",
    "measlesTweetsUSA <- parseTweets(tweets = 'measles_USA.json')\n",
    "\n",
    "# Parse tweets from specific states:\n",
    "# measlesTweetsAZ <- parseTweets(tweets = 'measles_AZ.json')\n",
    "# measlesTweetsCA <- parseTweets(tweets = 'measles_CA.json')\n",
    "# measlesTweetsFL <- parseTweets(tweets = 'measles_FL.json')\n",
    "# measlesTweetsKS <- parseTweets(tweets = 'measles_KS.json')\n",
    "# measlesTweetsMI <- parseTweets(tweets = 'measles_MI.json')\n",
    "# measlesTweetsNY <- parseTweets(tweets = 'measles_NY.json')\n",
    "# measlesTweetsNJ <- parseTweets(tweets = 'measles_NJ.json')\n",
    "# measlesTweetsOH <- parseTweets(tweets = 'measles_OH.json')\n",
    "# measlesTweetsTN <- parseTweets(tweets = 'measles_TN.json')\n",
    "# measlesTweetsTX <- parseTweets(tweets = 'measles_TX.json')\n",
    "# measlesTweetsWA <- parseTweets(tweets = 'measles_WA.json')\n",
    "\n",
    "# Export tweets from over USA:\n",
    "write.csv(measlesTweetsUSA, file = 'measlesTweetsUSA.csv')\n",
    "\n",
    "\n",
    "# Export tweets from specific states:\n",
    "# write.csv(measlesTweetsAZ, file = 'measlesTweetsAZ.csv')\n",
    "# write.csv(measlesTweetsCA, file = 'measlesTweetsCA.csv')\n",
    "# write.csv(measlesTweetsFL, file = 'measlesTweetsFL.csv')\n",
    "# write.csv(measlesTweetsKS, file = 'measlesTweetsKS.csv')\n",
    "# write.csv(measlesTweetsAZ, file = 'measlesTweetsAZ.csv')\n",
    "# write.csv(measlesTweetsMI, file = 'measlesTweetsMI.csv')\n",
    "# write.csv(measlesTweetsNY, file = 'measlesTweetsNY.csv')\n",
    "# write.csv(measlesTweetsNJ, file = 'measlesTweetsNJ.csv')\n",
    "# write.csv(measlesTweetsOH, file = 'measlesTweetsOH.csv')\n",
    "# write.csv(measlesTweetsTN, file = 'measlesTweetsTN.csv')\n",
    "# write.csv(measlesTweetsTX, file = 'measlesTweetsTX.csv')\n",
    "# write.csv(measlesTweetsWA, file = 'measlesTweetsWA.csv')\n",
    "\n",
    "# # Making maps from data:\n",
    "#\n",
    "# Collect tweets with geographical information:\n",
    "measlesTweetsUSA$lat <- ifelse(is.na(measlesTweetsUSA$lat), measlesTweetsUSA$place_lat, measlesTweetsUSA$lat)\n",
    "measlesTweetsUSA$lon <- ifelse(is.na(measlesTweetsUSA$lon), measlesTweetsUSA$place_lon, measlesTweetsUSA$lon)\n",
    "states <- map.where(\"state\", na.omit(measlesTweetsUSA$lon), na.omit(measlesTweetsUSA$lat))\n",
    "\n",
    "# Prepare a map with the exact geographical locations of the tweets:\n",
    "map.data <- map_data(\"state\")\n",
    "ggplot(map.data) + geom_map(aes(map_id = region), map = map.data, fill = \"grey90\",\n",
    "    color = \"#4C0CE8\", size = 0.25) + expand_limits(x = map.data$long, y = map.data$lat)\n",
    "    + scale_x_continuous(limits = c(-125, -66)) + scale_y_continuous(limits = c(25, 50))\n",
    "    + geom_point(data = measlesTweetsUSA, aes(x = lon, y = lat), size = 2, alpha = .5, color = \"#07EEFF\")\n",
    "    + theme(axis.line = element_blank(),\n",
    "        axis.text = element_blank(),\n",
    "        axis.ticks = element_blank(),\n",
    "        axis.title = element_blank(),\n",
    "        panel.background = element_blank(),\n",
    "        panel.border = element_blank(),\n",
    "        panel.grid.major = element_blank(),\n",
    "        panel.grid.minor = element_blank(),\n",
    "        plot.background = element_blank())"
   ]
  }
 ],
 "metadata": {
  "kernelspec": {
   "display_name": "R",
   "language": "R",
   "name": "ir"
  },
  "language_info": {
   "codemirror_mode": "r",
   "file_extension": ".r",
   "mimetype": "text/x-r-source",
   "name": "R",
   "pygments_lexer": "r",
   "version": "3.6.1"
  }
 },
 "nbformat": 4,
 "nbformat_minor": 2
}
